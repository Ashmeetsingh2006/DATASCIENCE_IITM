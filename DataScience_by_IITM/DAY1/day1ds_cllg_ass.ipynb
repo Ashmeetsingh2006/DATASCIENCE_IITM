{
 "cells": [
  {
   "cell_type": "code",
   "execution_count": 2,
   "id": "0f2ba245-b01b-4aad-927c-85f7f31c3230",
   "metadata": {},
   "outputs": [],
   "source": [
    "#budget calculator\n"
   ]
  },
  {
   "cell_type": "code",
   "execution_count": 5,
   "id": "ee3b39fd-e5bf-48d5-9fea-e9f54252646e",
   "metadata": {},
   "outputs": [],
   "source": [
    "def budget_calculator():\n",
    "    #Taking input from user \n",
    "    rent = float(input('Enter your rent of the month : '))\n",
    "    groceries = float(input('Enter your groceries of the month : '))\n",
    "    petrol = float(input('Enter your petrol exp of the month : '))\n",
    "    entertainment = float(input('Enter your entertainment of the month : '))\n",
    "    misclenious = float(input('Enter your misclenious of the month : '))\n",
    "\n",
    "\n",
    "    total_expenses = rent + groceries + petrol + entertainment + misclenious\n",
    "\n",
    "\n",
    "    print(f'''\n",
    "    Rent total    : {rent}\n",
    "    Groceries     : {groceries}\n",
    "    Petrol        : {petrol}\n",
    "    Entertainment : {entertainment}\n",
    "    Misclenious   : {misclenious}\n",
    "\n",
    "    Total_expenses of the month are : {total_expenses}\n",
    "    ''')\n",
    "    "
   ]
  },
  {
   "cell_type": "code",
   "execution_count": 7,
   "id": "302f713c-7b83-4520-8d07-e0748d52d30f",
   "metadata": {},
   "outputs": [
    {
     "name": "stdin",
     "output_type": "stream",
     "text": [
      "Enter your rent of the month :  500\n",
      "Enter your groceries of the month :  1000\n",
      "Enter your petrol exp of the month :  1000\n",
      "Enter your entertainment of the month :  200\n",
      "Enter your misclenious of the month :  300\n"
     ]
    },
    {
     "name": "stdout",
     "output_type": "stream",
     "text": [
      "\n",
      "    Rent total    : 500.0\n",
      "    Groceries     : 1000.0\n",
      "    Petrol        : 1000.0\n",
      "    Entertainment : 200.0\n",
      "    Misclenious   : 300.0\n",
      "\n",
      "    Total_expenses of the month are : 3000.0\n",
      "    \n"
     ]
    }
   ],
   "source": [
    "budget_calculator()"
   ]
  },
  {
   "cell_type": "code",
   "execution_count": 9,
   "id": "b6bf72bb-2d67-4705-9827-59f959d79f31",
   "metadata": {},
   "outputs": [],
   "source": [
    "def budget_calculator():\n",
    "    #Taking input from user \n",
    "    rent = float(input('Enter your rent of the month : '))\n",
    "    groceries = float(input('Enter your groceries of the month : '))\n",
    "    petrol = float(input('Enter your petrol exp of the month : '))\n",
    "    entertainment = float(input('Enter your entertainment of the month : '))\n",
    "    misclenious = float(input('Enter your misclenious of the month : '))\n",
    "\n",
    "\n",
    "    total_expenses = rent + groceries + petrol + entertainment + misclenious\n",
    "\n",
    "\n",
    "    print(f'''\n",
    "    Rent total    : {rent}\n",
    "    Groceries     : {groceries}\n",
    "    Petrol        : {petrol}\n",
    "    Entertainment : {entertainment}\n",
    "    Misclenious   : {misclenious}\n",
    "\n",
    "    Total_expenses of the month are : {total_expenses}\n",
    "    ''')\n",
    "\n",
    "\n",
    "    income = float(input('Enter your income of this month : '))\n",
    "    savings = income - total_expenses\n",
    "    print(f'you saved {savings} this from your monthly income')\n",
    "\n",
    "\n",
    "    if savings > total_expenses:\n",
    "        print('Very good you are on a right track you can invest this month in stocks')\n",
    "    elif savings > 0:\n",
    "        print('You spent much this month dont invest in stocks ')\n",
    "    else:\n",
    "        print('you dont have money to spend slow down ')\n",
    "    "
   ]
  },
  {
   "cell_type": "code",
   "execution_count": 11,
   "id": "df876e42-7a46-4dc2-a2b9-791bd7bfc85c",
   "metadata": {},
   "outputs": [
    {
     "name": "stdin",
     "output_type": "stream",
     "text": [
      "Enter your rent of the month :  500\n",
      "Enter your groceries of the month :  2000\n",
      "Enter your petrol exp of the month :  3000\n",
      "Enter your entertainment of the month :  2000\n",
      "Enter your misclenious of the month :  1000\n"
     ]
    },
    {
     "name": "stdout",
     "output_type": "stream",
     "text": [
      "\n",
      "    Rent total    : 500.0\n",
      "    Groceries     : 2000.0\n",
      "    Petrol        : 3000.0\n",
      "    Entertainment : 2000.0\n",
      "    Misclenious   : 1000.0\n",
      "\n",
      "    Total_expenses of the month are : 8500.0\n",
      "    \n"
     ]
    },
    {
     "name": "stdin",
     "output_type": "stream",
     "text": [
      "Enter your income of this month :  20000\n"
     ]
    },
    {
     "name": "stdout",
     "output_type": "stream",
     "text": [
      "you saved 11500.0 this from your monthly income\n",
      "Very good you are on a right track you can invest this month in stocks\n"
     ]
    }
   ],
   "source": [
    "budget_calculator()"
   ]
  },
  {
   "cell_type": "code",
   "execution_count": 13,
   "id": "1bbfcb49-1c72-49c2-9bf9-7938335f535d",
   "metadata": {},
   "outputs": [
    {
     "name": "stdin",
     "output_type": "stream",
     "text": [
      "Enter your rent of the month :  500\n",
      "Enter your groceries of the month :  200\n",
      "Enter your petrol exp of the month :  200\n",
      "Enter your entertainment of the month :  100\n",
      "Enter your misclenious of the month :  500\n"
     ]
    },
    {
     "name": "stdout",
     "output_type": "stream",
     "text": [
      "\n",
      "    Rent total    : 500.0\n",
      "    Groceries     : 200.0\n",
      "    Petrol        : 200.0\n",
      "    Entertainment : 100.0\n",
      "    Misclenious   : 500.0\n",
      "\n",
      "    Total_expenses of the month are : 1500.0\n",
      "    \n"
     ]
    },
    {
     "name": "stdin",
     "output_type": "stream",
     "text": [
      "Enter your income of this month :  2000\n"
     ]
    },
    {
     "name": "stdout",
     "output_type": "stream",
     "text": [
      "you saved 500.0 this from your monthly income\n",
      "You spent much this month dont invest in stocks \n"
     ]
    }
   ],
   "source": [
    "budget_calculator()"
   ]
  },
  {
   "cell_type": "code",
   "execution_count": 15,
   "id": "f00007a2-0b8f-4b1e-bde4-46e3daae2147",
   "metadata": {},
   "outputs": [
    {
     "name": "stdin",
     "output_type": "stream",
     "text": [
      "Enter your rent of the month :  500\n",
      "Enter your groceries of the month :  500\n",
      "Enter your petrol exp of the month :  500\n",
      "Enter your entertainment of the month :  500\n",
      "Enter your misclenious of the month :  500\n"
     ]
    },
    {
     "name": "stdout",
     "output_type": "stream",
     "text": [
      "\n",
      "    Rent total    : 500.0\n",
      "    Groceries     : 500.0\n",
      "    Petrol        : 500.0\n",
      "    Entertainment : 500.0\n",
      "    Misclenious   : 500.0\n",
      "\n",
      "    Total_expenses of the month are : 2500.0\n",
      "    \n"
     ]
    },
    {
     "name": "stdin",
     "output_type": "stream",
     "text": [
      "Enter your income of this month :  2500\n"
     ]
    },
    {
     "name": "stdout",
     "output_type": "stream",
     "text": [
      "you saved 0.0 this from your monthly income\n",
      "you dont have money to spend slow down \n"
     ]
    }
   ],
   "source": [
    "budget_calculator()"
   ]
  },
  {
   "cell_type": "code",
   "execution_count": 17,
   "id": "71d46119-7a6f-4f0f-9cad-ce4bb35ddf82",
   "metadata": {},
   "outputs": [],
   "source": [
    "#voting eligibility"
   ]
  },
  {
   "cell_type": "code",
   "execution_count": 19,
   "id": "eb9bccfd-ece0-4d7e-833f-1bb7864c04b0",
   "metadata": {},
   "outputs": [],
   "source": [
    "def voting_eligibility():\n",
    "    name = input('Enter your name : ')\n",
    "    age  = int(input('Enter your age : '))\n",
    "\n",
    "    if age >= 18:\n",
    "        print(f'{name} your age is {age} you are eligible for voting ')\n",
    "        print(f'{name} you are eligible for voting ')\n",
    "    else:\n",
    "        timeline = 18 - age\n",
    "        print(f'{name} you are under 18 your age {age} doesnt match our terms you cannnot vote ')\n",
    "        print(f'{name} you can vote in {timeline} years ')\n",
    "        "
   ]
  },
  {
   "cell_type": "code",
   "execution_count": 21,
   "id": "bb1100b1-7a70-43e1-ae28-2d24e66a5a1d",
   "metadata": {},
   "outputs": [
    {
     "name": "stdin",
     "output_type": "stream",
     "text": [
      "Enter your name :  ash\n",
      "Enter your age :  22\n"
     ]
    },
    {
     "name": "stdout",
     "output_type": "stream",
     "text": [
      "ash your age is 22 you are eligible for voting \n",
      "ash you are eligible for voting \n"
     ]
    }
   ],
   "source": [
    "voting_eligibility()"
   ]
  },
  {
   "cell_type": "code",
   "execution_count": 23,
   "id": "c1bf5f56-af72-40d4-b68f-1bfe5e2fef0e",
   "metadata": {},
   "outputs": [
    {
     "name": "stdin",
     "output_type": "stream",
     "text": [
      "Enter your name :  ash\n",
      "Enter your age :  15\n"
     ]
    },
    {
     "name": "stdout",
     "output_type": "stream",
     "text": [
      "ash you are under 18 your age 15 doesnt match our terms you cannnot vote \n",
      "ash you can vote in 3 years \n"
     ]
    }
   ],
   "source": [
    "voting_eligibility()"
   ]
  },
  {
   "cell_type": "code",
   "execution_count": 25,
   "id": "fee60251-0ad4-4495-86ed-259a2bb7c01a",
   "metadata": {},
   "outputs": [],
   "source": [
    "#atm pin"
   ]
  },
  {
   "cell_type": "code",
   "execution_count": 51,
   "id": "3ba3813d-6c45-4f97-9816-b5ac62b7bc3d",
   "metadata": {},
   "outputs": [],
   "source": [
    "def atm_pin():\n",
    "    print('''\n",
    "Hello user your ATM card has been blocked\n",
    "You have 3 attempts to access your ATM card\n",
    "Otherwise your ATM card will be blocked  ''')\n",
    "\n",
    "\n",
    "    import random \n",
    "    \n",
    "    attempts = 3\n",
    "\n",
    "    \n",
    "    for i in range(attempts):\n",
    "        correct_pin = random.randint(1000,4999)\n",
    "        user_pin = int(input('Enter your pin : '))\n",
    "        \n",
    "        \n",
    "        if user_pin == correct_pin:\n",
    "            print('Your pin is correct you can access your bank account')\n",
    "        else:\n",
    "            attempts -= 1\n",
    "            print(f'Number of attempts left are : {attempts}')\n",
    "            if attempts == 0:\n",
    "                print('your pin is not correct your bank account is blocked please contact your bank ')\n",
    "            else:\n",
    "                print('Try again : \\n')\n",
    "        \n",
    "            \n"
   ]
  },
  {
   "cell_type": "code",
   "execution_count": 53,
   "id": "4b0222b0-b6fc-4021-8a36-6e77375ccd2a",
   "metadata": {},
   "outputs": [
    {
     "name": "stdout",
     "output_type": "stream",
     "text": [
      "\n",
      "Hello user your ATM card has been blocked\n",
      "You have 3 attempts to access your ATM card\n",
      "Otherwise your ATM card will be blocked  \n"
     ]
    },
    {
     "name": "stdin",
     "output_type": "stream",
     "text": [
      "Enter your pin :  5000\n"
     ]
    },
    {
     "name": "stdout",
     "output_type": "stream",
     "text": [
      "Number of attempts left are : 2\n",
      "Try again : \n",
      "\n"
     ]
    },
    {
     "name": "stdin",
     "output_type": "stream",
     "text": [
      "Enter your pin :  5000\n"
     ]
    },
    {
     "name": "stdout",
     "output_type": "stream",
     "text": [
      "Number of attempts left are : 1\n",
      "Try again : \n",
      "\n"
     ]
    },
    {
     "name": "stdin",
     "output_type": "stream",
     "text": [
      "Enter your pin :  5000\n"
     ]
    },
    {
     "name": "stdout",
     "output_type": "stream",
     "text": [
      "Number of attempts left are : 0\n",
      "your pin is not correct your bank account is blocked please contact your bank \n"
     ]
    }
   ],
   "source": [
    "atm_pin()"
   ]
  },
  {
   "cell_type": "code",
   "execution_count": 1,
   "id": "6018748f-f146-4685-904b-a8b89a947102",
   "metadata": {},
   "outputs": [],
   "source": [
    "def student_report(name,subjects_mark):\n",
    "    print('Student report ')\n",
    "    print(f'student name {name} : ')\n",
    "    print(f'Acadmic year 24-25  ')\n",
    "    total_marks = 0\n",
    "    max_marks = len('')\n",
    "    "
   ]
  },
  {
   "cell_type": "code",
   "execution_count": 28,
   "id": "7b725beb-f8fb-49c1-9930-d9029371f1fc",
   "metadata": {},
   "outputs": [],
   "source": [
    "def student_report(name,subject_marks):\n",
    "    print('Student Report Card 25-25')\n",
    "    print(f'Student name  : {name}')\n",
    "    print('-'*40)\n",
    "\n",
    "    total_marks = 0\n",
    "    #max_marks = len(subject_marks)*10\n",
    "\n",
    "    print('Subject wise performance')\n",
    "    print('-'*40)\n",
    "    \n",
    "    \n",
    "    for subject,marks in subject_marks.item():\n",
    "        total_marks += marks\n",
    "        if marks >= 90:\n",
    "            grade = 'a'\n",
    "        elif \n",
    "        "
   ]
  },
  {
   "cell_type": "code",
   "execution_count": null,
   "id": "cf8060fd-4937-4bf9-a2e7-52eca3e863bd",
   "metadata": {},
   "outputs": [],
   "source": []
  },
  {
   "cell_type": "code",
   "execution_count": 2,
   "id": "350ff5da-93c9-44b7-8f19-700e4e04d85d",
   "metadata": {},
   "outputs": [],
   "source": [
    "#railway booking system"
   ]
  },
  {
   "cell_type": "code",
   "execution_count": null,
   "id": "4fead910-16e2-4930-a94b-0a79bfb479a7",
   "metadata": {},
   "outputs": [],
   "source": [
    "def indian_railway():\n",
    "    print('Indian railway')\n",
    "    print('Welcome to Rajdhani express')\n",
    "    print('-'*40)\n",
    "\n",
    "\n",
    "    seats = {}\n",
    "    for i in range(1,21):\n",
    "        seats[f's{i}'] = None\n",
    "    \n",
    "        "
   ]
  },
  {
   "cell_type": "code",
   "execution_count": null,
   "id": "6c03eedd-240c-4864-90bf-3cf19ab05ecf",
   "metadata": {},
   "outputs": [],
   "source": [
    "def display_seats():\n",
    "    print('seat availability')\n",
    "    for seat_no,passenger in seat.item():\n",
    "        status = 'Available' if passenger is None else f'Not available ({passenger}) has already booked'\n",
    "        print(f'seat {seat_no} : {status}')\n",
    "        "
   ]
  },
  {
   "cell_type": "code",
   "execution_count": null,
   "id": "38e12201-390b-47c7-a055-57722e71d409",
   "metadata": {},
   "outputs": [],
   "source": [
    "def display_seats():\n",
    "    print('seat availability')\n",
    "    for seat_no,passenger in seat.items():\n",
    "        if passenger == None:\n",
    "            status = 'Available'\n",
    "            print(f'seat {seat_no} is {status}')\n",
    "\n",
    "        else:\n",
    "            status = 'Not Available'\n",
    "            print(f'seat {seat_no} is {status}')\n",
    "            print(f'The seat has been booked by {passenger}')\n"
   ]
  },
  {
   "cell_type": "code",
   "execution_count": null,
   "id": "5db43406-d2a7-41e3-be8e-8c3d6c0ed4b1",
   "metadata": {},
   "outputs": [],
   "source": [
    "def book_seat():\n",
    "    seat_no = input('Enter your prefferable seat number from (S1-S20): ').upper()\n",
    "    if seat_no not in seats:\n",
    "        print('invalid seat number please try again ')\n",
    "\n",
    "    if seats[seat_no] is None:\n",
    "        passenger_name = input('Enter your name : ')\n",
    "        age = int(input('Enter your age : '))\n",
    "        if age <= 5:\n",
    "            print('no seprate seat is required')\n",
    "            \n"
   ]
  }
 ],
 "metadata": {
  "kernelspec": {
   "display_name": "Python [conda env:base] *",
   "language": "python",
   "name": "conda-base-py"
  },
  "language_info": {
   "codemirror_mode": {
    "name": "ipython",
    "version": 3
   },
   "file_extension": ".py",
   "mimetype": "text/x-python",
   "name": "python",
   "nbconvert_exporter": "python",
   "pygments_lexer": "ipython3",
   "version": "3.11.7"
  },
  "widgets": {
   "application/vnd.jupyter.widget-state+json": {
    "state": {},
    "version_major": 2,
    "version_minor": 0
   }
  }
 },
 "nbformat": 4,
 "nbformat_minor": 5
}
