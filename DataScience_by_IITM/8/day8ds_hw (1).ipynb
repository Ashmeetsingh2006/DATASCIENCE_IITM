{
 "cells": [
  {
   "cell_type": "code",
   "execution_count": 6,
   "id": "e6330a11-f99e-473c-aa07-4c6d56b3cc95",
   "metadata": {},
   "outputs": [],
   "source": [
    "#web scrapping"
   ]
  },
  {
   "cell_type": "code",
   "execution_count": null,
   "id": "6e65c64c-a7de-41bd-b0aa-9145831eb7a8",
   "metadata": {},
   "outputs": [],
   "source": []
  }
 ],
 "metadata": {
  "kernelspec": {
   "display_name": "Python [conda env:base] *",
   "language": "python",
   "name": "conda-base-py"
  },
  "language_info": {
   "codemirror_mode": {
    "name": "ipython",
    "version": 3
   },
   "file_extension": ".py",
   "mimetype": "text/x-python",
   "name": "python",
   "nbconvert_exporter": "python",
   "pygments_lexer": "ipython3",
   "version": "3.11.7"
  },
  "widgets": {
   "application/vnd.jupyter.widget-state+json": {
    "state": {},
    "version_major": 2,
    "version_minor": 0
   }
  }
 },
 "nbformat": 4,
 "nbformat_minor": 5
}
