{
 "cells": [
  {
   "cell_type": "code",
   "execution_count": 14,
   "id": "9b6e4191-217d-46ef-8eb9-da16e437d101",
   "metadata": {},
   "outputs": [
    {
     "name": "stdout",
     "output_type": "stream",
     "text": [
      "something went wrong\n",
      "invalid datatype comparison\n"
     ]
    }
   ],
   "source": [
    "#exception handling try and except\n",
    "\n",
    "age = '23'\n",
    "try: \n",
    "    \n",
    "    if age>=18:\n",
    "        print('can vote')\n",
    "    else:\n",
    "        print('can\\'t vote' )\n",
    "except TypeError:\n",
    "    print('something went wrong')\n",
    "    print('invalid datatype comparison')\n",
    "except:\n",
    "    print('invalid')\n",
    "\n",
    "\n",
    "\n",
    "\n",
    "\n",
    "#args means input in tuple form\n",
    "#kwargs means input in dictinory form "
   ]
  },
  {
   "cell_type": "code",
   "execution_count": 22,
   "id": "5f27e35b-6981-47da-bc8a-b4a9e5f7a64c",
   "metadata": {},
   "outputs": [
    {
     "data": {
      "text/html": [
       "<div>\n",
       "<style scoped>\n",
       "    .dataframe tbody tr th:only-of-type {\n",
       "        vertical-align: middle;\n",
       "    }\n",
       "\n",
       "    .dataframe tbody tr th {\n",
       "        vertical-align: top;\n",
       "    }\n",
       "\n",
       "    .dataframe thead th {\n",
       "        text-align: right;\n",
       "    }\n",
       "</style>\n",
       "<table border=\"1\" class=\"dataframe\">\n",
       "  <thead>\n",
       "    <tr style=\"text-align: right;\">\n",
       "      <th></th>\n",
       "      <th>Name</th>\n",
       "      <th>City</th>\n",
       "      <th>Age</th>\n",
       "      <th>Sec</th>\n",
       "    </tr>\n",
       "  </thead>\n",
       "  <tbody>\n",
       "    <tr>\n",
       "      <th>0</th>\n",
       "      <td>ajay</td>\n",
       "      <td>Delhi</td>\n",
       "      <td>19</td>\n",
       "      <td>A</td>\n",
       "    </tr>\n",
       "    <tr>\n",
       "      <th>1</th>\n",
       "      <td>arun</td>\n",
       "      <td>noida</td>\n",
       "      <td>20</td>\n",
       "      <td>B</td>\n",
       "    </tr>\n",
       "    <tr>\n",
       "      <th>2</th>\n",
       "      <td>poll</td>\n",
       "      <td>goa</td>\n",
       "      <td>25</td>\n",
       "      <td>C</td>\n",
       "    </tr>\n",
       "  </tbody>\n",
       "</table>\n",
       "</div>"
      ],
      "text/plain": [
       "   Name   City  Age Sec\n",
       "0  ajay  Delhi   19   A\n",
       "1  arun  noida   20   B\n",
       "2  poll    goa   25   C"
      ]
     },
     "execution_count": 22,
     "metadata": {},
     "output_type": "execute_result"
    }
   ],
   "source": [
    "def student_records(**kwargs):\n",
    "    import pandas as pd\n",
    "    try:\n",
    "        data = pd.DataFrame(kwargs)\n",
    "        return data \n",
    "    except:\n",
    "            data = pd.DataFrame(kwargs,index = [1])\n",
    "            return data \n",
    "\n",
    "\n",
    "student_records(Name = ['ajay','arun','poll'],\n",
    "                City =['Delhi','noida','goa'],\n",
    "                Age = [19,20,25],\n",
    "                Sec = list('ABC') #here we can type cast this into list\n",
    "               ) "
   ]
  },
  {
   "cell_type": "code",
   "execution_count": 33,
   "id": "bae7d6b6-d294-4db1-91a6-7eb7fc84f89c",
   "metadata": {},
   "outputs": [
    {
     "name": "stdout",
     "output_type": "stream",
     "text": [
      "Fri Jul  4 10:37:39 2025\n",
      "timer has been stopped\n"
     ]
    }
   ],
   "source": [
    "#making infinite loop with the while loop  and making timer with it\n",
    "\n",
    "def show_time():\n",
    "    import time\n",
    "    try:\n",
    "        while True:\n",
    "                print(time.asctime())\n",
    "                time.sleep(1)\n",
    "                display(clear = True)\n",
    "    except:\n",
    "        print('timer has been stopped')\n",
    "\n",
    "show_time()        "
   ]
  },
  {
   "cell_type": "code",
   "execution_count": null,
   "id": "5829f10b-001e-4d75-862a-46b57f0bbed5",
   "metadata": {},
   "outputs": [],
   "source": []
  },
  {
   "cell_type": "code",
   "execution_count": null,
   "id": "01e81672-41df-4ebe-8360-9520ddc9275d",
   "metadata": {},
   "outputs": [],
   "source": []
  },
  {
   "cell_type": "code",
   "execution_count": null,
   "id": "7b8999aa-b962-4e35-bab6-b288507f0859",
   "metadata": {},
   "outputs": [],
   "source": []
  },
  {
   "cell_type": "code",
   "execution_count": null,
   "id": "4e9dd9c6-8527-4560-9362-fa7eb8cb959a",
   "metadata": {},
   "outputs": [],
   "source": []
  },
  {
   "cell_type": "code",
   "execution_count": 1,
   "id": "bbde865d-c948-4415-b2d5-9b8b56399e2a",
   "metadata": {},
   "outputs": [
    {
     "name": "stdout",
     "output_type": "stream",
     "text": [
      "This is Ashmeet module \n",
      "Info: https://www.google.com/\n",
      "done\n",
      "    ! \n",
      "   ! ! \n",
      "  ! ! ! \n",
      " ! ! ! ! \n",
      "! ! ! ! ! \n"
     ]
    }
   ],
   "source": [
    "import ashmeet as a\n",
    "print('done')\n",
    "a.star(n = 5,typ ='centre', shape='!')"
   ]
  },
  {
   "cell_type": "code",
   "execution_count": 3,
   "id": "07b136b6-5312-40e6-b5cc-13f3cc1aa0d1",
   "metadata": {},
   "outputs": [
    {
     "data": {
      "text/plain": [
       "55"
      ]
     },
     "execution_count": 3,
     "metadata": {},
     "output_type": "execute_result"
    }
   ],
   "source": [
    "a.sum_of_n(10)"
   ]
  },
  {
   "cell_type": "code",
   "execution_count": 5,
   "id": "2a144c8f-823e-46da-9083-1add6e22192b",
   "metadata": {},
   "outputs": [
    {
     "data": {
      "text/plain": [
       "120"
      ]
     },
     "execution_count": 5,
     "metadata": {},
     "output_type": "execute_result"
    }
   ],
   "source": [
    "a.factorial(5)"
   ]
  },
  {
   "cell_type": "code",
   "execution_count": 7,
   "id": "d3fe2e54-8f98-4b53-bcf0-fc374fa56bca",
   "metadata": {},
   "outputs": [
    {
     "name": "stdout",
     "output_type": "stream",
     "text": [
      " NITIN is a palidrome\n"
     ]
    }
   ],
   "source": [
    "a.check_palidrome('nitin')"
   ]
  },
  {
   "cell_type": "code",
   "execution_count": 96,
   "id": "bad73df6-7bbb-4329-a8af-a4e3ee48a6cb",
   "metadata": {},
   "outputs": [
    {
     "data": {
      "text/plain": [
       "[0, 1, 1, 2, 3, 5, 8, 13, 21, 34]"
      ]
     },
     "execution_count": 96,
     "metadata": {},
     "output_type": "execute_result"
    }
   ],
   "source": [
    "a.give_fibo(10)"
   ]
  },
  {
   "cell_type": "code",
   "execution_count": 98,
   "id": "66f27afd-7a44-4b6b-bb1e-824cdd9125e0",
   "metadata": {},
   "outputs": [],
   "source": [
    "a.sound_box(500)"
   ]
  },
  {
   "cell_type": "code",
   "execution_count": 9,
   "id": "39b9feb1-15ac-48e8-96b8-f57a47502814",
   "metadata": {},
   "outputs": [
    {
     "name": "stdout",
     "output_type": "stream",
     "text": [
      "done\n"
     ]
    }
   ],
   "source": [
    "from ashmeet import minin\n",
    "print('done')"
   ]
  },
  {
   "cell_type": "code",
   "execution_count": 11,
   "id": "4e4755c3-51d0-4f8c-b353-3fc210773d05",
   "metadata": {},
   "outputs": [
    {
     "data": {
      "text/plain": [
       "12"
      ]
     },
     "execution_count": 11,
     "metadata": {},
     "output_type": "execute_result"
    }
   ],
   "source": [
    "minin(12,23,25,55)"
   ]
  },
  {
   "cell_type": "code",
   "execution_count": 13,
   "id": "c7362e39-404d-446b-84f0-d63e09c34bb6",
   "metadata": {},
   "outputs": [
    {
     "name": "stdout",
     "output_type": "stream",
     "text": [
      "done\n"
     ]
    }
   ],
   "source": [
    "from ashmeet import student_records\n",
    "print('done')"
   ]
  },
  {
   "cell_type": "code",
   "execution_count": 15,
   "id": "c64c2177-b903-46a1-9fa9-7d9c47891459",
   "metadata": {},
   "outputs": [
    {
     "data": {
      "text/html": [
       "<div>\n",
       "<style scoped>\n",
       "    .dataframe tbody tr th:only-of-type {\n",
       "        vertical-align: middle;\n",
       "    }\n",
       "\n",
       "    .dataframe tbody tr th {\n",
       "        vertical-align: top;\n",
       "    }\n",
       "\n",
       "    .dataframe thead th {\n",
       "        text-align: right;\n",
       "    }\n",
       "</style>\n",
       "<table border=\"1\" class=\"dataframe\">\n",
       "  <thead>\n",
       "    <tr style=\"text-align: right;\">\n",
       "      <th></th>\n",
       "      <th>name</th>\n",
       "      <th>age</th>\n",
       "    </tr>\n",
       "  </thead>\n",
       "  <tbody>\n",
       "    <tr>\n",
       "      <th>1</th>\n",
       "      <td>ash</td>\n",
       "      <td>15</td>\n",
       "    </tr>\n",
       "  </tbody>\n",
       "</table>\n",
       "</div>"
      ],
      "text/plain": [
       "  name age\n",
       "1  ash  15"
      ]
     },
     "execution_count": 15,
     "metadata": {},
     "output_type": "execute_result"
    }
   ],
   "source": [
    "student_records(name = 'ash',age = '15')"
   ]
  },
  {
   "cell_type": "code",
   "execution_count": 19,
   "id": "bada42a9-259e-4e1a-89d9-9fe90693ff8f",
   "metadata": {},
   "outputs": [
    {
     "name": "stdout",
     "output_type": "stream",
     "text": [
      "done\n"
     ]
    }
   ],
   "source": [
    "from ashmeet import *\n",
    "print('done')"
   ]
  },
  {
   "cell_type": "code",
   "execution_count": 21,
   "id": "fb0eba56-6397-4860-9dab-558aa1e7aec0",
   "metadata": {},
   "outputs": [
    {
     "name": "stdout",
     "output_type": "stream",
     "text": [
      "done\n"
     ]
    }
   ],
   "source": [
    "import turtle \n",
    "print('done')"
   ]
  },
  {
   "cell_type": "code",
   "execution_count": 9,
   "id": "31a5780d-7af4-42a4-89a5-a94ec25a09c3",
   "metadata": {},
   "outputs": [],
   "source": [
    "import turtle\n",
    "for i in range(360):\n",
    "    turtle.speed(0)\n",
    "    turtle.bgcolor('black')\n",
    "    col = ['red','green','yellow']\n",
    "    import random\n",
    "    picked_color = random.choice(col)\n",
    "    turtle.color(picked_color)\n",
    "    turtle.circle(100)\n",
    "    turtle.right(1)"
   ]
  },
  {
   "cell_type": "code",
   "execution_count": 1,
   "id": "a89a3bf1-c1c5-4cdd-a71c-63bb0d310dc1",
   "metadata": {},
   "outputs": [],
   "source": [
    "import turtle\n",
    "for i in range(6):\n",
    "    turtle.color('cyan')\n",
    "    turtle.bgcolor('black')\n",
    "    turtle.forward(150)\n",
    "    turtle.left(60)"
   ]
  },
  {
   "cell_type": "code",
   "execution_count": 2,
   "id": "64bce2f2-5f6a-4e67-ab00-78e31ff8c4c0",
   "metadata": {},
   "outputs": [],
   "source": [
    "#file handling"
   ]
  },
  {
   "cell_type": "code",
   "execution_count": 4,
   "id": "6f1098ee-c58d-45fd-9212-c4732f539adb",
   "metadata": {},
   "outputs": [
    {
     "data": {
      "text/plain": [
       "'\\nther are two types of files\\n1 text file - \\n.py ,. csv , .java\\n2 binary file- the file which needs software to be run \\n.xlsx, .mp3, .mp4 , .exe , .png   \\n#handing   = read,write,copy,append,delete,open,new ,close '"
      ]
     },
     "execution_count": 4,
     "metadata": {},
     "output_type": "execute_result"
    }
   ],
   "source": [
    "'''\n",
    "ther are two types of files\n",
    "1 text file - \n",
    ".py ,. csv , .java\n",
    "2 binary file- the file which needs software to be run \n",
    ".xlsx, .mp3, .mp4 , .exe , .png   \n",
    "#handing   = read,write,copy,append,delete,open,new ,close '''"
   ]
  },
  {
   "cell_type": "code",
   "execution_count": 6,
   "id": "778c84fe-ef96-4d29-9098-357b22d9a79b",
   "metadata": {},
   "outputs": [],
   "source": [
    "#context manager \n"
   ]
  },
  {
   "cell_type": "code",
   "execution_count": 22,
   "id": "b636f020-3eb0-4e0f-8f8f-b643e6f9b2c2",
   "metadata": {},
   "outputs": [
    {
     "name": "stdout",
     "output_type": "stream",
     "text": [
      "print('''This is Ashmeet module \n",
      "Info: https://www.google.com/''')\n",
      "\n",
      "\n",
      "def check_palidrome(word):\n",
      "    if type(word) == str:\n",
      "        word = word.upper()\n",
      "        \n",
      "        if word == word[::-1]:\n",
      "            print(f' {word} is a palidrome')\n",
      "        else:\n",
      "            print(f'{word} not a palindrome')\n",
      "    else:\n",
      "        return 'invalid data type'\n",
      "\n",
      "        \n",
      "def give_fibo(n):\n",
      "    fibo = [0,1]\n",
      "    for i in range(n-2):\n",
      "        last_num = fibo[-1]\n",
      "        second_last_num = fibo[-2]\n",
      "        next_num = last_num + second_last_num\n",
      "        fibo.append(next_num)\n",
      "        \n",
      "    return fibo   \n",
      "\n",
      "def check_prime(number):\n",
      "    for i in range(2,number):\n",
      "        if number%i == 0:\n",
      "            print(f'{number } is not a prime number')\n",
      "            break\n",
      "    else:\n",
      "        print(f'{number} is a prime number')\n",
      "\n",
      "def star(n,typ = 'left',shape = '*'):\n",
      "    if typ == 'left':\n",
      "        space = ''\n",
      "    elif typ == 'right':\n",
      "        space = '  '\n",
      "    elif typ == 'centre':\n",
      "        space =' '\n",
      "    for i in range(1,n+1):\n",
      "        print(space *(n-i) + i*f'{shape} ')\n",
      "  \n",
      "   \n",
      "\n",
      "\n",
      "\n",
      "def sum_of_n(n):\n",
      "    result = 0\n",
      "    for i in range(1,n+1):\n",
      "        result += i\n",
      "    return result    \n",
      "\n",
      "\n",
      "def factorial(n):\n",
      "    result = 1\n",
      "    for i in range(1,n+1):\n",
      "        result *= i\n",
      "    return result\n",
      "\n",
      "\n",
      "def total_s(*args):\n",
      "    result = 0\n",
      "    for i in args:\n",
      "        result += i\n",
      "    return result\n",
      "\n",
      "\n",
      "def minin(*sales):\n",
      "    min_element = sales[0]\n",
      "    for i in sales[1:]:\n",
      "        if i < min_element:\n",
      "            min_element = i\n",
      "    return min_element   \n",
      "\n",
      "def maxim(*sales):\n",
      "    max_element = sales[0]\n",
      "    for i in sales[1:]:  \n",
      "        if i > max_element:\n",
      "            max_element = i\n",
      "    return max_element  \n",
      "\n",
      "\n",
      "\n",
      "\n",
      "def store_records(name,age,sec,roll_no,Class):\n",
      "    data = {\n",
      "        'Name' : name, 'Age' : age, 'Sec' : sec, 'Roll no' : roll_no, 'Class' : lass}\n",
      "    import pandas as pd\n",
      "    result = pd.DataFrame(data,index = [1])\n",
      "    return result\n",
      "\n",
      "\n",
      "def student_records(**kwargs):\n",
      "    import pandas as pd\n",
      "    try:\n",
      "        data = pd.DataFrame(kwargs)\n",
      "        return data \n",
      "    except:\n",
      "            data = pd.DataFrame(kwargs,index = [1])\n",
      "            return data \n",
      "\n",
      "def sound_box(paisa,platform = 'Paytm'):\n",
      "    from gtts import gTTS\n",
      "    text  = f'''{platform} par {paisa} rs Prapt hue.'''\n",
      "    audio = gTTS(text)\n",
      "    audio.save('paytm.mp3')\n",
      "\n",
      "    import pygame as p\n",
      "    p.init()\n",
      "\n",
      "    music = p.mixer.Sound('paytm.mp3')\n",
      "    music.play()\n"
     ]
    }
   ],
   "source": [
    "file = open('ashmeet.py', mode = 'r')\n",
    "print(file.read())\n",
    "file.close()"
   ]
  },
  {
   "cell_type": "code",
   "execution_count": 24,
   "id": "f38cd5a3-f389-4d03-9fb0-0f46183a3c53",
   "metadata": {},
   "outputs": [],
   "source": [
    "f = open('ashmeet.py', mode = 'r')\n",
    "\n"
   ]
  },
  {
   "cell_type": "code",
   "execution_count": 40,
   "id": "51e2d833-536e-42e3-8ea7-2a3a7e3b5585",
   "metadata": {},
   "outputs": [
    {
     "name": "stdout",
     "output_type": "stream",
     "text": [
      "    if type(word) == str:\n",
      "\n"
     ]
    }
   ],
   "source": [
    "print(f.readline())\n",
    "f.close()"
   ]
  },
  {
   "cell_type": "code",
   "execution_count": 56,
   "id": "0d59873f-2e29-479f-bfaa-8b4c925f5a37",
   "metadata": {},
   "outputs": [
    {
     "name": "stdout",
     "output_type": "stream",
     "text": [
      "def check_palidrome(word):\n",
      "\n",
      "done\n"
     ]
    }
   ],
   "source": [
    "f = open('ashmeet.py', mode = 'r')\n",
    "for i in range(10):\n",
    "    if i == 4:\n",
    "        print(f.readline())\n",
    "    else:\n",
    "        f.readline()\n",
    "f.close()\n",
    "print('done')"
   ]
  },
  {
   "cell_type": "code",
   "execution_count": 58,
   "id": "33d23e34-38fc-40c2-b148-bf8b9123e256",
   "metadata": {},
   "outputs": [],
   "source": [
    "f = open('ashmeet.py', mode = 'r')\n"
   ]
  },
  {
   "cell_type": "code",
   "execution_count": 60,
   "id": "1d2cb49b-c063-40c6-bf1c-0779dc44f52e",
   "metadata": {},
   "outputs": [
    {
     "name": "stdout",
     "output_type": "stream",
     "text": [
      "done\n"
     ]
    }
   ],
   "source": [
    "data = f.readlines()\n",
    "f.close()\n",
    "print('done')"
   ]
  },
  {
   "cell_type": "code",
   "execution_count": 64,
   "id": "b3bd8e6d-fffd-4d57-b21e-ab209e3a9ce2",
   "metadata": {},
   "outputs": [
    {
     "name": "stdout",
     "output_type": "stream",
     "text": [
      "    if type(word) == str:\n",
      "\n"
     ]
    }
   ],
   "source": [
    "print(data[5])"
   ]
  },
  {
   "cell_type": "code",
   "execution_count": null,
   "id": "70fc41b4-8c6e-406a-946d-e9a57291bec1",
   "metadata": {},
   "outputs": [],
   "source": []
  }
 ],
 "metadata": {
  "kernelspec": {
   "display_name": "Python [conda env:base] *",
   "language": "python",
   "name": "conda-base-py"
  },
  "language_info": {
   "codemirror_mode": {
    "name": "ipython",
    "version": 3
   },
   "file_extension": ".py",
   "mimetype": "text/x-python",
   "name": "python",
   "nbconvert_exporter": "python",
   "pygments_lexer": "ipython3",
   "version": "3.11.7"
  },
  "widgets": {
   "application/vnd.jupyter.widget-state+json": {
    "state": {},
    "version_major": 2,
    "version_minor": 0
   }
  }
 },
 "nbformat": 4,
 "nbformat_minor": 5
}
