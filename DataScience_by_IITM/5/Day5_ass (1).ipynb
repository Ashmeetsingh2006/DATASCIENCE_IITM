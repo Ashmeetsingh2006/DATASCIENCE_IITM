{
 "cells": [
  {
   "cell_type": "code",
   "execution_count": 2,
   "id": "dd0f7cc0-49df-46ce-84c3-2463f2115984",
   "metadata": {},
   "outputs": [
    {
     "name": "stdout",
     "output_type": "stream",
     "text": [
      "Done\n"
     ]
    }
   ],
   "source": [
    "import pymysql as py\n",
    "print('Done')"
   ]
  },
  {
   "cell_type": "code",
   "execution_count": 6,
   "id": "152e20f9-2ff0-4586-965d-3e80aa95b0b7",
   "metadata": {},
   "outputs": [
    {
     "name": "stdout",
     "output_type": "stream",
     "text": [
      "connection created  successfully !!\n",
      "done\n"
     ]
    }
   ],
   "source": [
    "conn = py.connect(user = 'root',\n",
    "                 password = '25143359',\n",
    "                 host = 'localhost',\n",
    "                 autocommit = True)\n",
    "\n",
    "print('connection created  successfully !!')\n",
    "print('done')\n"
   ]
  },
  {
   "cell_type": "code",
   "execution_count": 8,
   "id": "eaa9848d-5de5-49b1-b5d6-005a95dc2af4",
   "metadata": {},
   "outputs": [
    {
     "name": "stdout",
     "output_type": "stream",
     "text": [
      "done\n"
     ]
    }
   ],
   "source": [
    "cur = conn.cursor()\n",
    "print('done')"
   ]
  },
  {
   "cell_type": "code",
   "execution_count": 12,
   "id": "cfcecdce-d093-44dc-a753-2c0012626e23",
   "metadata": {},
   "outputs": [
    {
     "name": "stdout",
     "output_type": "stream",
     "text": [
      "done\n"
     ]
    }
   ],
   "source": [
    "#Creating Database\n",
    "q = '''create  database librarry; '''\n",
    "cur.execute(q)\n",
    "print('done')"
   ]
  },
  {
   "cell_type": "code",
   "execution_count": 14,
   "id": "3630c5cf-2092-4368-a103-828063155ec8",
   "metadata": {},
   "outputs": [
    {
     "name": "stdout",
     "output_type": "stream",
     "text": [
      "done\n"
     ]
    }
   ],
   "source": [
    "#using the database we made \n",
    "q = '''use librarry'''\n",
    "cur.execute(q)\n",
    "print('done')"
   ]
  },
  {
   "cell_type": "code",
   "execution_count": 20,
   "id": "1a50d92c-169d-445f-bc26-dc75c83294dc",
   "metadata": {},
   "outputs": [
    {
     "name": "stdout",
     "output_type": "stream",
     "text": [
      "done\n"
     ]
    }
   ],
   "source": [
    "#creating table\n",
    "q = '''create table book\n",
    "(\n",
    "book_id int not null,\n",
    "title char(50),\n",
    "author varchar(50),\n",
    "price int \n",
    ");'''\n",
    "cur.execute(q)\n",
    "print('done')"
   ]
  },
  {
   "cell_type": "code",
   "execution_count": 22,
   "id": "f13af462-9dea-45fb-a72c-d05dd1c59a21",
   "metadata": {},
   "outputs": [
    {
     "name": "stdout",
     "output_type": "stream",
     "text": [
      "done\n"
     ]
    }
   ],
   "source": [
    "q = '''insert into book \n",
    "values\n",
    "(101,\"Rich dad poor dad\", \"A\", 500),\n",
    "(102,\"48 laws of power\", \"B\",600),\n",
    "(103,\"Power of money\", \"C\",450);\n",
    "'''\n",
    "cur.execute(q)\n",
    "print('done')"
   ]
  },
  {
   "cell_type": "code",
   "execution_count": 24,
   "id": "c9155618-b4e4-466e-8ef4-ba1f64215190",
   "metadata": {},
   "outputs": [
    {
     "name": "stdout",
     "output_type": "stream",
     "text": [
      "((101, 'Rich dad poor dad', 'A', 500), (102, '48 laws of power', 'B', 600), (103, 'Power of money', 'C', 450))\n"
     ]
    }
   ],
   "source": [
    "#display the records we inserted\n",
    "q = '''SELECT * FROM book'''\n",
    "cur.execute(q)\n",
    "records = cur.fetchall()\n",
    "print(records)"
   ]
  },
  {
   "cell_type": "code",
   "execution_count": 26,
   "id": "5eedd319-ba88-4fff-9285-2a39f4215d6e",
   "metadata": {},
   "outputs": [
    {
     "name": "stdout",
     "output_type": "stream",
     "text": [
      "['book_id', 'title', 'author', 'price']\n"
     ]
    }
   ],
   "source": [
    "#to get all the column names  \n",
    "all_columns = []\n",
    "for i in cur.description:\n",
    "    all_columns.append(i[0])\n",
    "\n",
    "print(all_columns)"
   ]
  },
  {
   "cell_type": "code",
   "execution_count": 28,
   "id": "3da58dc9-4273-48d5-a58e-53f0a2e580a9",
   "metadata": {},
   "outputs": [
    {
     "data": {
      "text/html": [
       "<div>\n",
       "<style scoped>\n",
       "    .dataframe tbody tr th:only-of-type {\n",
       "        vertical-align: middle;\n",
       "    }\n",
       "\n",
       "    .dataframe tbody tr th {\n",
       "        vertical-align: top;\n",
       "    }\n",
       "\n",
       "    .dataframe thead th {\n",
       "        text-align: right;\n",
       "    }\n",
       "</style>\n",
       "<table border=\"1\" class=\"dataframe\">\n",
       "  <thead>\n",
       "    <tr style=\"text-align: right;\">\n",
       "      <th></th>\n",
       "      <th>book_id</th>\n",
       "      <th>title</th>\n",
       "      <th>author</th>\n",
       "      <th>price</th>\n",
       "    </tr>\n",
       "  </thead>\n",
       "  <tbody>\n",
       "    <tr>\n",
       "      <th>0</th>\n",
       "      <td>101</td>\n",
       "      <td>Rich dad poor dad</td>\n",
       "      <td>A</td>\n",
       "      <td>500</td>\n",
       "    </tr>\n",
       "    <tr>\n",
       "      <th>1</th>\n",
       "      <td>102</td>\n",
       "      <td>48 laws of power</td>\n",
       "      <td>B</td>\n",
       "      <td>600</td>\n",
       "    </tr>\n",
       "    <tr>\n",
       "      <th>2</th>\n",
       "      <td>103</td>\n",
       "      <td>Power of money</td>\n",
       "      <td>C</td>\n",
       "      <td>450</td>\n",
       "    </tr>\n",
       "  </tbody>\n",
       "</table>\n",
       "</div>"
      ],
      "text/plain": [
       "   book_id              title author  price\n",
       "0      101  Rich dad poor dad      A    500\n",
       "1      102   48 laws of power      B    600\n",
       "2      103     Power of money      C    450"
      ]
     },
     "execution_count": 28,
     "metadata": {},
     "output_type": "execute_result"
    }
   ],
   "source": [
    "#transforming the data into a data frame\n",
    "import pandas as pd\n",
    "df = pd.DataFrame(records,columns = all_columns)\n",
    "df"
   ]
  },
  {
   "cell_type": "code",
   "execution_count": 33,
   "id": "9db14f82-61ca-4861-8ac6-0232a2a3a024",
   "metadata": {},
   "outputs": [],
   "source": [
    "#now will convert this dataframe into a csv file\n",
    "df.to_csv('Library.csv',index = False)"
   ]
  },
  {
   "cell_type": "code",
   "execution_count": null,
   "id": "a7629f01-0709-44e1-ad88-ca81b22220f8",
   "metadata": {},
   "outputs": [],
   "source": []
  }
 ],
 "metadata": {
  "kernelspec": {
   "display_name": "Python [conda env:base] *",
   "language": "python",
   "name": "conda-base-py"
  },
  "language_info": {
   "codemirror_mode": {
    "name": "ipython",
    "version": 3
   },
   "file_extension": ".py",
   "mimetype": "text/x-python",
   "name": "python",
   "nbconvert_exporter": "python",
   "pygments_lexer": "ipython3",
   "version": "3.11.7"
  },
  "widgets": {
   "application/vnd.jupyter.widget-state+json": {
    "state": {},
    "version_major": 2,
    "version_minor": 0
   }
  }
 },
 "nbformat": 4,
 "nbformat_minor": 5
}
