{
 "cells": [
  {
   "cell_type": "code",
   "execution_count": 2,
   "id": "11233e72-fd54-4b4c-a9bc-7d9271df312b",
   "metadata": {},
   "outputs": [],
   "source": [
    "class A:\n",
    "    def i_am_a():\n",
    "        print('I am a function of a')\n",
    "class B:\n",
    "    def i_am_b():\n",
    "        print('I am B function of b')"
   ]
  },
  {
   "cell_type": "code",
   "execution_count": 4,
   "id": "7395c8f7-7a4d-4fe1-a61b-06b60f9b023e",
   "metadata": {},
   "outputs": [],
   "source": [
    "ob_a = A()\n",
    "ob_b = B()"
   ]
  },
  {
   "cell_type": "code",
   "execution_count": 6,
   "id": "a3d94c8f-e5ec-4706-81aa-e0586fcc440e",
   "metadata": {},
   "outputs": [],
   "source": [
    "#single Inheritence(simple)\n",
    "#Multiple Inhertience\n",
    "#Multilevel Inheritence\n",
    "#Hybrid Inheritence\n"
   ]
  },
  {
   "cell_type": "code",
   "execution_count": 33,
   "id": "f80c0726-922a-46e2-9104-8d6cbba32214",
   "metadata": {},
   "outputs": [],
   "source": [
    "#single inheritance \n",
    "\n",
    "class BMW:\n",
    "    def super_turbo_engine(self):\n",
    "        print('Super fast engine !!')\n",
    "class AUDI(BMW):\n",
    "    def auto_pilot(self):\n",
    "        print('Auto pilott !!!!')"
   ]
  },
  {
   "cell_type": "code",
   "execution_count": 14,
   "id": "ccd99c21-80b0-435d-aa5f-d1a947edfbad",
   "metadata": {},
   "outputs": [],
   "source": [
    "audi_r8 = AUDI()"
   ]
  },
  {
   "cell_type": "code",
   "execution_count": 16,
   "id": "53b8bfba-a154-4611-a197-c48e06ac78d1",
   "metadata": {},
   "outputs": [
    {
     "name": "stdout",
     "output_type": "stream",
     "text": [
      "Super fast engine !!\n"
     ]
    }
   ],
   "source": [
    "audi_r8.super_turbo_engine()"
   ]
  },
  {
   "cell_type": "code",
   "execution_count": 25,
   "id": "e08ea734-4a91-4d77-90ef-043f3cf19847",
   "metadata": {},
   "outputs": [],
   "source": [
    "\n",
    "\n",
    "class Daily_object:\n",
    "    def phone_case(self):\n",
    "        print('Builds phonee casesss')\n",
    "\n",
    "class JBL:\n",
    "    def sonic_speaker(self):\n",
    "        print('high Quality Sound speaker')\n",
    "\n",
    "class Samsung:\n",
    "    def screen_display():\n",
    "        print('4k Hd screeen')\n",
    "\n",
    "\n",
    "class Nvidia:\n",
    "    def motherboard(self):\n",
    "        print('Fast mother board')\n",
    "\n",
    "class Sony:\n",
    "    def camera(self):\n",
    "        print('4k camera ')\n",
    "\n",
    "class Lava:\n",
    "    def battery(self):\n",
    "        print('batteryyyyyyy')\n",
    "\n",
    "class One_plus:\n",
    "    def battery(self):\n",
    "        print('superfast batteryyyyyyy')\n",
    "\n",
    "class Mobile(Daily_object,JBL,Samsung,Nvidia,Sony,Lava,One_plus):\n",
    "    def __init__(self):\n",
    "        print(\"Phone object has been created\")"
   ]
  },
  {
   "cell_type": "code",
   "execution_count": 6,
   "id": "104a0481-5f57-4e8d-a1d7-c168e5571181",
   "metadata": {},
   "outputs": [
    {
     "name": "stdout",
     "output_type": "stream",
     "text": [
      "Phone object has been created\n"
     ]
    }
   ],
   "source": [
    "mi = Mobile()"
   ]
  },
  {
   "cell_type": "code",
   "execution_count": 8,
   "id": "5dd6616b-f1bc-49a0-8d50-8d17675512dc",
   "metadata": {},
   "outputs": [
    {
     "name": "stdout",
     "output_type": "stream",
     "text": [
      "batteryyyyyyy\n"
     ]
    }
   ],
   "source": [
    "mi.battery()"
   ]
  },
  {
   "cell_type": "code",
   "execution_count": 12,
   "id": "8d174aca-fcc7-4a04-8623-a30cf95b16cd",
   "metadata": {},
   "outputs": [
    {
     "name": "stdout",
     "output_type": "stream",
     "text": [
      "4k camera \n"
     ]
    }
   ],
   "source": [
    "mi.camera()"
   ]
  },
  {
   "cell_type": "code",
   "execution_count": 1,
   "id": "507ffae2-1b37-43a7-8b5f-210f9a18f692",
   "metadata": {},
   "outputs": [],
   "source": [
    "#Multilevel() Inheritencee"
   ]
  },
  {
   "cell_type": "code",
   "execution_count": 5,
   "id": "9f087d49-b503-4dcb-a671-8bafba5baf3c",
   "metadata": {},
   "outputs": [],
   "source": [
    "class GrandFather:\n",
    "    def land_property(self):\n",
    "        print('Land propertyy!!!')\n",
    "\n",
    "class Father(GrandFather):\n",
    "    def bank_balance(self):\n",
    "        print('Big money playerr')\n",
    "\n",
    "\n",
    "class Son(Father):\n",
    "    def political_power(self):\n",
    "        print('Prime minister of India')\n",
    "\n",
    "class Grandson(Son):\n",
    "    def mind(self):\n",
    "        print('Mind for self study !!!')\n",
    "\n",
    "class Friend(Grandson):\n",
    "    def __init__(self):\n",
    "        print('Nothing')"
   ]
  },
  {
   "cell_type": "code",
   "execution_count": 7,
   "id": "bee0ea5f-c0bc-4dff-9dcc-a9c486d3550c",
   "metadata": {},
   "outputs": [],
   "source": [
    "shaktiman = Grandson()\n"
   ]
  },
  {
   "cell_type": "code",
   "execution_count": 9,
   "id": "b6e5bd53-46f0-434b-a5e2-f6c4bed10f80",
   "metadata": {},
   "outputs": [
    {
     "name": "stdout",
     "output_type": "stream",
     "text": [
      "Land propertyy!!!\n"
     ]
    }
   ],
   "source": [
    "shaktiman.land_property()"
   ]
  },
  {
   "cell_type": "code",
   "execution_count": 13,
   "id": "06ef43e3-dd9a-46d3-8c4d-e7100d9d9b1f",
   "metadata": {},
   "outputs": [
    {
     "name": "stdout",
     "output_type": "stream",
     "text": [
      "Nothing\n"
     ]
    }
   ],
   "source": [
    "mansi = Friend()"
   ]
  },
  {
   "cell_type": "code",
   "execution_count": 15,
   "id": "f3b32670-64d4-41d2-998c-b60a69b7a3c6",
   "metadata": {},
   "outputs": [
    {
     "name": "stdout",
     "output_type": "stream",
     "text": [
      "Land propertyy!!!\n"
     ]
    }
   ],
   "source": [
    "mansi.land_property()"
   ]
  },
  {
   "cell_type": "code",
   "execution_count": 19,
   "id": "c1dbef15-ac6d-44cb-a52e-5010e8812b01",
   "metadata": {},
   "outputs": [],
   "source": [
    "#hybrid inheritance single and multiple"
   ]
  },
  {
   "cell_type": "code",
   "execution_count": 37,
   "id": "dce62999-156b-4dd7-99b9-17e19c26d511",
   "metadata": {},
   "outputs": [],
   "source": [
    "class Hybrid_class(Mobile,Friend,AUDI):\n",
    "    def __init__(self):\n",
    "        print('this is a hybrid classs ')\n",
    "    def info(self):\n",
    "        print('It can call  any methods!!!')\n"
   ]
  },
  {
   "cell_type": "code",
   "execution_count": 39,
   "id": "7cba9c01-5ebd-460b-8fa5-812900b98117",
   "metadata": {},
   "outputs": [
    {
     "name": "stdout",
     "output_type": "stream",
     "text": [
      "this is a hybrid classs \n"
     ]
    }
   ],
   "source": [
    "ob = Hybrid_class()"
   ]
  },
  {
   "cell_type": "code",
   "execution_count": 43,
   "id": "ce437e0e-af85-49f0-add1-c11d3eb6f79a",
   "metadata": {},
   "outputs": [
    {
     "name": "stdout",
     "output_type": "stream",
     "text": [
      "It can call  any methods!!!\n"
     ]
    }
   ],
   "source": [
    "ob.info()"
   ]
  },
  {
   "cell_type": "code",
   "execution_count": 45,
   "id": "09f81350-c8d0-455c-a260-b59270387686",
   "metadata": {},
   "outputs": [],
   "source": [
    "#hyrerichal - two or more than two child class of a parent class "
   ]
  },
  {
   "cell_type": "code",
   "execution_count": 47,
   "id": "1cf78ced-bf12-420a-98bf-9c75c4929191",
   "metadata": {},
   "outputs": [],
   "source": [
    "class UGC:\n",
    "    def __init__(self):\n",
    "        print('Grant permission')\n",
    "\n",
    "    def college_approved(UGC):\n",
    "        print('college has been approved')\n",
    "\n",
    "class Du:\n",
    "    def multiple_colleges(UGC):\n",
    "        print('List of collefes')\n",
    "\n",
    "class IP:\n",
    "    def multiple_colleges(UGC):\n",
    "        print('List of collefes')\n",
    "\n",
    "\n",
    "class DTU:\n",
    "    def multiple_colleges(UGc):\n",
    "        print('List of collefes')\n",
    "\n",
    "class Bhu:\n",
    "    def multiple_colleges(UGC):\n",
    "        print('List of collefes')\n",
    "\n",
    "\n",
    "    "
   ]
  },
  {
   "cell_type": "code",
   "execution_count": 57,
   "id": "1adafb3b-3e70-446b-b7a4-4314973d4eb3",
   "metadata": {},
   "outputs": [
    {
     "name": "stdout",
     "output_type": "stream",
     "text": [
      "f1 car speed is ,  Max speed 200km/hr\n",
      "f1 car speed is ,  Max speed 250km/hr\n",
      "f1 car speed is ,  Max speed 300km/hr\n"
     ]
    }
   ],
   "source": [
    "class Car:\n",
    "    def speed(self):\n",
    "        return('Max speed 200km/hr')\n",
    "\n",
    "    def auto_pilot(self):\n",
    "        return('It supports auto pilot mode')\n",
    "    def info(self):\n",
    "        return('this is just car object ')\n",
    "\n",
    "class BMW(Car):\n",
    "    def speed(self):\n",
    "        return('Max speed 250km/hr')\n",
    "\n",
    "    def info(self):\n",
    "        return('this is just BMW object ')\n",
    "\n",
    "class AUDI(Car):\n",
    "    def speed(self):\n",
    "        return('Max speed 300km/hr')\n",
    "    def info(self):\n",
    "        return('this is just AUDI object ')\n",
    "\n",
    "for i in [Car,BMW,AUDI]:\n",
    "    f1 = i()\n",
    "    print('f1 car speed is , ' , f1.speed())"
   ]
  },
  {
   "cell_type": "code",
   "execution_count": 63,
   "id": "d6f4d1c4-5cdf-485b-ad9e-c87b01275887",
   "metadata": {},
   "outputs": [
    {
     "name": "stdout",
     "output_type": "stream",
     "text": [
      "hello candidate ash\n"
     ]
    }
   ],
   "source": [
    "class IITM:\n",
    "    def intro(self):\n",
    "        print('hello candidate')\n",
    "    def intro(self,name):\n",
    "        print(f'hello candidate {name}')\n",
    "\n",
    "a = IITM()\n",
    "a.intro('ash')"
   ]
  },
  {
   "cell_type": "code",
   "execution_count": 81,
   "id": "ddd6ae91-1104-4866-8978-2058648a6b9f",
   "metadata": {},
   "outputs": [
    {
     "name": "stdout",
     "output_type": "stream",
     "text": [
      "Hello Candidates!!!\n"
     ]
    }
   ],
   "source": [
    "class IITM:\n",
    "    def itnro(self,name = None,address = None):\n",
    "        if(name==None) and (address==None):\n",
    "            print('Hello Candidates!!!')\n",
    "        elif (name!=None) and (address == None):\n",
    "            print(f'Hello {name},How are youu??')\n",
    "        elif(name!=None) and (address!=None):\n",
    "            print(f'hello {name}')\n",
    "            print(f'helloo {address}')\n",
    "        else:\n",
    "            print('hello  buddy!!!')\n",
    "\n",
    "\n",
    "a = IITM()\n",
    "a.itnro()     "
   ]
  },
  {
   "cell_type": "code",
   "execution_count": 83,
   "id": "b682083f-b2c3-41a6-aa3d-7b39b8da8b90",
   "metadata": {},
   "outputs": [
    {
     "name": "stdout",
     "output_type": "stream",
     "text": [
      "Hello ash,How are youu??\n"
     ]
    }
   ],
   "source": [
    "a.itnro('ash')"
   ]
  },
  {
   "cell_type": "code",
   "execution_count": 93,
   "id": "7a2a6c7c-f287-4040-98e9-7a35790d3b63",
   "metadata": {},
   "outputs": [
    {
     "name": "stdout",
     "output_type": "stream",
     "text": [
      "hello ash\n",
      "helloo Delhi\n"
     ]
    }
   ],
   "source": [
    "a.itnro('ash','Delhi')"
   ]
  },
  {
   "cell_type": "code",
   "execution_count": 95,
   "id": "dc79199a-62cd-4dc6-b608-1bfa61dce72d",
   "metadata": {},
   "outputs": [
    {
     "name": "stdout",
     "output_type": "stream",
     "text": [
      "hello  buddy!!!\n"
     ]
    }
   ],
   "source": [
    "a.itnro(None,'delhi')"
   ]
  },
  {
   "cell_type": "code",
   "execution_count": 97,
   "id": "d5de6291-0019-4627-990b-c9531998906d",
   "metadata": {},
   "outputs": [],
   "source": [
    "#ABSTRACTION"
   ]
  },
  {
   "cell_type": "code",
   "execution_count": 109,
   "id": "0ee63785-f3b3-4e6a-a064-d5e4759b5300",
   "metadata": {},
   "outputs": [
    {
     "ename": "TypeError",
     "evalue": "Can't instantiate abstract class Website with abstract methods login, logout",
     "output_type": "error",
     "traceback": [
      "\u001b[1;31m---------------------------------------------------------------------------\u001b[0m",
      "\u001b[1;31mTypeError\u001b[0m                                 Traceback (most recent call last)",
      "Cell \u001b[1;32mIn[109], line 11\u001b[0m\n\u001b[0;32m      7\u001b[0m     \u001b[38;5;129m@abstractmethod\u001b[39m\n\u001b[0;32m      8\u001b[0m     \u001b[38;5;28;01mdef\u001b[39;00m \u001b[38;5;21mlogout\u001b[39m(\u001b[38;5;28mself\u001b[39m):\n\u001b[0;32m      9\u001b[0m         \u001b[38;5;28mprint\u001b[39m(\u001b[38;5;124m'\u001b[39m\u001b[38;5;124mA logout method\u001b[39m\u001b[38;5;124m'\u001b[39m)\n\u001b[1;32m---> 11\u001b[0m asus \u001b[38;5;241m=\u001b[39m  Website()\n\u001b[0;32m     12\u001b[0m \u001b[38;5;28mprint\u001b[39m(\u001b[38;5;124m'\u001b[39m\u001b[38;5;124mdone\u001b[39m\u001b[38;5;124m'\u001b[39m)\n",
      "\u001b[1;31mTypeError\u001b[0m: Can't instantiate abstract class Website with abstract methods login, logout"
     ]
    }
   ],
   "source": [
    "from abc import ABC,abstractmethod\n",
    "class Website(ABC):\n",
    "    @abstractmethod\n",
    "    def login(self):\n",
    "        print('this is a lpgn method')\n",
    "        \n",
    "    @abstractmethod\n",
    "    def logout(self):\n",
    "        print('A logout method')\n",
    "\n",
    "asus =  Website()\n",
    "print('done')"
   ]
  },
  {
   "cell_type": "code",
   "execution_count": 120,
   "id": "854a7127-2e13-439f-b2ec-9a6ca766ef9f",
   "metadata": {},
   "outputs": [],
   "source": [
    "class Nakul(Website):\n",
    "    def signup(self):\n",
    "        print('User can signup!!')\n",
    "    def login(self):\n",
    "        print('this is a lpgn method')\n",
    "        \n",
    "    def logout(self):\n",
    "        print('A logout method')\n",
    "\n",
    "\n",
    "a = Nakul()"
   ]
  },
  {
   "cell_type": "code",
   "execution_count": 132,
   "id": "ac46161f-465c-4a88-bdd0-7aad65f98a01",
   "metadata": {},
   "outputs": [
    {
     "name": "stdout",
     "output_type": "stream",
     "text": [
      "this is a lpgn method\n"
     ]
    }
   ],
   "source": [
    "a.login()"
   ]
  },
  {
   "cell_type": "code",
   "execution_count": 134,
   "id": "159cf188-ac44-4d84-b14a-0df277414c11",
   "metadata": {},
   "outputs": [
    {
     "name": "stdout",
     "output_type": "stream",
     "text": [
      "User can signup!!\n"
     ]
    }
   ],
   "source": [
    "a.signup()"
   ]
  },
  {
   "cell_type": "code",
   "execution_count": null,
   "id": "8193f91d-16b3-4c9f-95e0-6a5f53f2b2e8",
   "metadata": {},
   "outputs": [],
   "source": []
  },
  {
   "cell_type": "code",
   "execution_count": null,
   "id": "4cf830e1-4574-491b-89ae-94c5ed3f803b",
   "metadata": {},
   "outputs": [],
   "source": []
  },
  {
   "cell_type": "code",
   "execution_count": null,
   "id": "cf1f498a-61d9-4b4b-b5be-5b250b4dd6e4",
   "metadata": {},
   "outputs": [],
   "source": []
  },
  {
   "cell_type": "code",
   "execution_count": null,
   "id": "a143d6de-6cc8-46b8-b008-95523e6ad053",
   "metadata": {},
   "outputs": [],
   "source": []
  },
  {
   "cell_type": "code",
   "execution_count": null,
   "id": "24462fdc-a3d5-4dea-b59c-6ac22c6e6c5e",
   "metadata": {},
   "outputs": [],
   "source": []
  },
  {
   "cell_type": "code",
   "execution_count": null,
   "id": "e56edf9e-a0e6-42c7-b286-c223ae460548",
   "metadata": {},
   "outputs": [],
   "source": []
  },
  {
   "cell_type": "code",
   "execution_count": null,
   "id": "2c9f122c-29eb-41b7-8dbd-3d994826722e",
   "metadata": {},
   "outputs": [],
   "source": []
  },
  {
   "cell_type": "code",
   "execution_count": null,
   "id": "787f07e5-8e5b-4a7b-9aa1-ebcaea3f046b",
   "metadata": {},
   "outputs": [],
   "source": [
    "\n"
   ]
  },
  {
   "cell_type": "code",
   "execution_count": null,
   "id": "5206d5c7-be67-4d39-8377-6ee56f52db2f",
   "metadata": {},
   "outputs": [],
   "source": []
  }
 ],
 "metadata": {
  "kernelspec": {
   "display_name": "Python [conda env:base] *",
   "language": "python",
   "name": "conda-base-py"
  },
  "language_info": {
   "codemirror_mode": {
    "name": "ipython",
    "version": 3
   },
   "file_extension": ".py",
   "mimetype": "text/x-python",
   "name": "python",
   "nbconvert_exporter": "python",
   "pygments_lexer": "ipython3",
   "version": "3.11.7"
  },
  "widgets": {
   "application/vnd.jupyter.widget-state+json": {
    "state": {},
    "version_major": 2,
    "version_minor": 0
   }
  }
 },
 "nbformat": 4,
 "nbformat_minor": 5
}
