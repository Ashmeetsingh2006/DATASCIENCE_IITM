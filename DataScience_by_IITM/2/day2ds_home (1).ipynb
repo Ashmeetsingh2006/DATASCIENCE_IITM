{
 "cells": [
  {
   "cell_type": "code",
   "execution_count": 2,
   "id": "51182206-e54c-4895-bcd0-ea08ca66a715",
   "metadata": {},
   "outputs": [],
   "source": [
    "#creating functions using def "
   ]
  },
  {
   "cell_type": "code",
   "execution_count": 51,
   "id": "f7d6e98d-1d8b-4aaf-8cd9-931e14c01c3a",
   "metadata": {},
   "outputs": [
    {
     "name": "stdout",
     "output_type": "stream",
     "text": [
      "121 is palindrome\n"
     ]
    }
   ],
   "source": [
    "# 1st function palindrome\n",
    "#palindrome means a word is exact same when it is opposite example dad = dad\n",
    "\n",
    "def palindrome(word):\n",
    "    if type(word) == str:\n",
    "        word = word.upper() \n",
    "        if word == word[: : -1]:  #it is used to reverse the string\n",
    "            print(f'{word} is palindrome')\n",
    "        else:\n",
    "            print(f'{word} is not palindrome')\n",
    "    else:   \n",
    "        print('the given input is not string/invalid data  type')\n",
    "    \n",
    "palindrome('121')    \n",
    "\n",
    "#here we used if (word) == str: because we want to know that only string(word) is palindrome so by using this it will not give \n",
    "# answer if its numeric data type\n",
    "#here we used .upper because if user enters in lower/upper case it doesnt matter it will convert code in upper case and only\n",
    "# single = is used \n"
   ]
  },
  {
   "cell_type": "code",
   "execution_count": 49,
   "id": "00e8dc87-7eff-432b-b89c-4ae5fa40cfdb",
   "metadata": {},
   "outputs": [
    {
     "name": "stdout",
     "output_type": "stream",
     "text": [
      "120 invalid data type\n",
      "NITIN is palindrome\n"
     ]
    }
   ],
   "source": [
    "#function palindrome\n",
    "\n",
    "def palindrome(word):\n",
    "    if type(word) == str:\n",
    "        word = word.upper()\n",
    "        if word == word[ : : -1]:\n",
    "            print(f'{word} is palindrome')\n",
    "        else:\n",
    "            print(f'{word} is not palindrome')\n",
    "    else:\n",
    "        print(f'{word} invalid data type')\n",
    "        \n",
    "    \n",
    "    \n",
    "\n",
    "palindrome(120)\n",
    "palindrome('nitin')"
   ]
  },
  {
   "cell_type": "code",
   "execution_count": 55,
   "id": "d9af081b-402f-4e67-adc6-2bb2eecd5e97",
   "metadata": {},
   "outputs": [
    {
     "data": {
      "text/plain": [
       "[0, 1, 1, 2, 3, 5, 8, 13, 21, 34]"
      ]
     },
     "execution_count": 55,
     "metadata": {},
     "output_type": "execute_result"
    }
   ],
   "source": [
    "#function 2\n",
    "#fibonacci in this last number is added to it example-[0, 1, 1, 2, 3, 5, 8, 13 etc\n",
    "\n",
    "def fibonacci(n):\n",
    "    fibo = [0,1]\n",
    "    for i in range(n-2):\n",
    "        last_num = fibo[-1]\n",
    "        sec_last_num = fibo[-2]\n",
    "        next_num = last_num + sec_last_num\n",
    "        fibo.append(next_num)\n",
    "    return fibo\n",
    "fibonacci(10)    \n",
    "    "
   ]
  },
  {
   "cell_type": "code",
   "execution_count": 63,
   "id": "c80ff3b1-fc2f-46e6-8f4e-7bcc5608037f",
   "metadata": {},
   "outputs": [
    {
     "data": {
      "text/plain": [
       "55"
      ]
     },
     "execution_count": 63,
     "metadata": {},
     "output_type": "execute_result"
    }
   ],
   "source": [
    "#function to calculate sum of n \n",
    "def sum_of(n):\n",
    "    result = 0\n",
    "    for i in range(1,n+1):\n",
    "        result += i  \n",
    "    return result\n",
    "sum_of(10)    \n",
    "    "
   ]
  },
  {
   "cell_type": "code",
   "execution_count": 69,
   "id": "9c16d7fd-b2ef-48e7-97da-f4f0bf1c85e3",
   "metadata": {},
   "outputs": [
    {
     "data": {
      "text/plain": [
       "55"
      ]
     },
     "execution_count": 69,
     "metadata": {},
     "output_type": "execute_result"
    }
   ],
   "source": [
    "def sum_n(n):\n",
    "    result = 0\n",
    "    for i in range(1,n+1):\n",
    "        result +=i  #Har baar loop mein i ko result ke andar add kar diya jaata hai. Same as: result = result + i\n",
    "    return result\n",
    "sum_n(10)"
   ]
  },
  {
   "cell_type": "code",
   "execution_count": 71,
   "id": "935a7e44-7096-4782-8d97-dc4f65e50ad5",
   "metadata": {},
   "outputs": [
    {
     "data": {
      "text/plain": [
       "55"
      ]
     },
     "execution_count": 71,
     "metadata": {},
     "output_type": "execute_result"
    }
   ],
   "source": [
    "def sum_of(n):\n",
    "    result = 0\n",
    "    for i in range(1,n+1):\n",
    "        result = result + i  \n",
    "    return result\n",
    "sum_of(10)    "
   ]
  },
  {
   "cell_type": "code",
   "execution_count": 79,
   "id": "7953f4e6-d6e2-426f-aded-0fec423f07e1",
   "metadata": {},
   "outputs": [
    {
     "data": {
      "text/plain": [
       "11"
      ]
     },
     "execution_count": 79,
     "metadata": {},
     "output_type": "execute_result"
    }
   ],
   "source": [
    "#function to find total sales\n",
    "#here we use *args for multiple inputs\n",
    "def total_sales(*args):\n",
    "    result = 0\n",
    "    for i in args:\n",
    "        result += i  #Jo bhi numbers humne function ko diye hain, unpe ek-ek karke loop chalega.\n",
    "    return result\n",
    "    \n",
    "total_sales(1,2,3,5)"
   ]
  },
  {
   "cell_type": "code",
   "execution_count": 81,
   "id": "eb5092e3-2a2e-404f-bf66-f9c24805ff9f",
   "metadata": {},
   "outputs": [
    {
     "data": {
      "text/plain": [
       "14"
      ]
     },
     "execution_count": 81,
     "metadata": {},
     "output_type": "execute_result"
    }
   ],
   "source": [
    "def total_s(*args):\n",
    "    result = 0\n",
    "    for i in args:\n",
    "        result += i\n",
    "    return result\n",
    "total_sales(1,2,5,6)"
   ]
  },
  {
   "cell_type": "code",
   "execution_count": 83,
   "id": "dd43258f-a50d-4741-8b8b-34cbaca64551",
   "metadata": {},
   "outputs": [
    {
     "data": {
      "text/plain": [
       "1"
      ]
     },
     "execution_count": 83,
     "metadata": {},
     "output_type": "execute_result"
    }
   ],
   "source": [
    "#function to find min element \n",
    "def minin(*sales):\n",
    "    min_element = sales[0]\n",
    "    for i in sales[1:]:\n",
    "        if i < min_element:\n",
    "            min_element = i\n",
    "    return min_element\n",
    "minin(12,1,23,56)\n",
    "    \n",
    "            "
   ]
  },
  {
   "cell_type": "code",
   "execution_count": 85,
   "id": "a56ec983-23bb-4bbd-8e92-0b6b98547b86",
   "metadata": {},
   "outputs": [
    {
     "data": {
      "text/plain": [
       "55"
      ]
     },
     "execution_count": 85,
     "metadata": {},
     "output_type": "execute_result"
    }
   ],
   "source": [
    "def maxim(*n):\n",
    "    max_element = n[0]\n",
    "    for i in n[1:]:\n",
    "        if i > max_element:\n",
    "            max_element = i\n",
    "    return max_element\n",
    "    \n",
    "maxim(12,23,55)\n"
   ]
  },
  {
   "cell_type": "code",
   "execution_count": 4,
   "id": "856ed3fc-457a-4c16-b568-e8a09779f368",
   "metadata": {},
   "outputs": [
    {
     "data": {
      "text/plain": [
       "['#OLA', '#UBER', '#RAPIDO', '#ADANI', '#TATA']"
      ]
     },
     "execution_count": 4,
     "metadata": {},
     "output_type": "execute_result"
    }
   ],
   "source": [
    "company = ['ola','uber','rapido','adani','tata']\n",
    "#this is our data and we have to add #infornt of this and have to convert this into upper\n",
    "def hashtag(*company):\n",
    "    result = []\n",
    "    for i in company:\n",
    "        result.append('#' + i.upper())\n",
    "    return result\n",
    "    \n",
    "hashtag(*company)        "
   ]
  },
  {
   "cell_type": "code",
   "execution_count": 16,
   "id": "e7d503e0-cde1-49f9-9f83-722dd9c5c118",
   "metadata": {},
   "outputs": [
    {
     "data": {
      "text/plain": [
       "['#OLA', '#UBER', '#RAPIDO', '#ADANI', '#TATA']"
      ]
     },
     "execution_count": 16,
     "metadata": {},
     "output_type": "execute_result"
    }
   ],
   "source": [
    "company = ['ola','uber','rapido','adani','tata']\n",
    "def add_hashtag(*company):\n",
    "    result = []\n",
    "    for j in company:\n",
    "        result.append('#' + j.upper())\n",
    "    return result  \n",
    "add_hashtag(*company) "
   ]
  },
  {
   "cell_type": "code",
   "execution_count": 22,
   "id": "2a449567-b69e-4d6c-bebc-85943a712f41",
   "metadata": {},
   "outputs": [
    {
     "name": "stdout",
     "output_type": "stream",
     "text": [
      "['#OLA']\n",
      "['#UBER']\n",
      "['#RAPIDO']\n",
      "['#ADANI']\n",
      "['#TATA']\n"
     ]
    }
   ],
   "source": [
    "company = ['ola','uber','rapido','adani','tata']\n",
    "for j in company:\n",
    "    result = []\n",
    "    result.append('#' + j.upper())\n",
    "    print(result)"
   ]
  },
  {
   "cell_type": "code",
   "execution_count": 24,
   "id": "64848baf-9782-456b-a056-b9e7f3ecae9d",
   "metadata": {},
   "outputs": [],
   "source": [
    "#exception handling\n",
    "#here we use try and except\n",
    "#simple code\n"
   ]
  },
  {
   "cell_type": "code",
   "execution_count": 38,
   "id": "1fec1fbd-e796-4a55-8593-96b4baab7727",
   "metadata": {},
   "outputs": [
    {
     "name": "stdout",
     "output_type": "stream",
     "text": [
      "invalid argument\n"
     ]
    }
   ],
   "source": [
    "age = '22'\n",
    "try:\n",
    "    if age >= 18:\n",
    "        print('can vote')\n",
    "    else:\n",
    "        print('cannot vote')\n",
    "except:\n",
    "    print('invalid argument')"
   ]
  },
  {
   "cell_type": "code",
   "execution_count": 7,
   "id": "1d7f0361-f456-4826-be16-23d1c90ff21b",
   "metadata": {},
   "outputs": [
    {
     "name": "stdout",
     "output_type": "stream",
     "text": [
      "invalid argument\n"
     ]
    }
   ],
   "source": [
    "#in this we can also define the exception in the exception block\n",
    "age = 'aa'\n",
    "try:\n",
    "    if age >= 18:\n",
    "        print('can vote')\n",
    "    else:\n",
    "        print('cannot vote')\n",
    "except TypeError:\n",
    "    print('invalid argument')"
   ]
  },
  {
   "cell_type": "code",
   "execution_count": 5,
   "id": "74a266a8-7a3f-4b14-b34c-fe9a149e1361",
   "metadata": {},
   "outputs": [
    {
     "name": "stdout",
     "output_type": "stream",
     "text": [
      "cannot vote\n"
     ]
    }
   ],
   "source": [
    "#agar humne jis type ka error declare kiya hai toh tabh bhi error ajayega code mein \n",
    "#usk\n",
    "age = 12\n",
    "try:\n",
    "    if age >= 18:\n",
    "        print('can vote')\n",
    "    else:\n",
    "        print('cannot vote')\n",
    "except TypeError:\n",
    "    print('invalid argument')\n"
   ]
  },
  {
   "cell_type": "code",
   "execution_count": 9,
   "id": "ed7d028a-453a-4da8-9037-f3c5ddcb0c35",
   "metadata": {},
   "outputs": [],
   "source": [
    "def student_records(**kwargs):\n",
    "    import pandas as pd\n",
    "    try:\n",
    "        data = pd.DataFrame(kwargs)\n",
    "        return data\n",
    "    except:\n",
    "        data = pd.DataFrame(kwargs,index = [1])\n",
    "        return data\n",
    "        "
   ]
  },
  {
   "cell_type": "code",
   "execution_count": 11,
   "id": "61150fac-5290-425d-a892-0b66e0526014",
   "metadata": {},
   "outputs": [
    {
     "data": {
      "text/html": [
       "<div>\n",
       "<style scoped>\n",
       "    .dataframe tbody tr th:only-of-type {\n",
       "        vertical-align: middle;\n",
       "    }\n",
       "\n",
       "    .dataframe tbody tr th {\n",
       "        vertical-align: top;\n",
       "    }\n",
       "\n",
       "    .dataframe thead th {\n",
       "        text-align: right;\n",
       "    }\n",
       "</style>\n",
       "<table border=\"1\" class=\"dataframe\">\n",
       "  <thead>\n",
       "    <tr style=\"text-align: right;\">\n",
       "      <th></th>\n",
       "      <th>Name</th>\n",
       "      <th>Class</th>\n",
       "      <th>City</th>\n",
       "    </tr>\n",
       "  </thead>\n",
       "  <tbody>\n",
       "    <tr>\n",
       "      <th>1</th>\n",
       "      <td>Ajay</td>\n",
       "      <td>12</td>\n",
       "      <td>Delhi</td>\n",
       "    </tr>\n",
       "  </tbody>\n",
       "</table>\n",
       "</div>"
      ],
      "text/plain": [
       "   Name  Class   City\n",
       "1  Ajay     12  Delhi"
      ]
     },
     "execution_count": 11,
     "metadata": {},
     "output_type": "execute_result"
    }
   ],
   "source": [
    "student_records(Name='Ajay',Class=12,City='Delhi')"
   ]
  },
  {
   "cell_type": "code",
   "execution_count": 13,
   "id": "0651f6cb-b683-441f-9475-8df2bd56a44c",
   "metadata": {},
   "outputs": [
    {
     "data": {
      "text/html": [
       "<div>\n",
       "<style scoped>\n",
       "    .dataframe tbody tr th:only-of-type {\n",
       "        vertical-align: middle;\n",
       "    }\n",
       "\n",
       "    .dataframe tbody tr th {\n",
       "        vertical-align: top;\n",
       "    }\n",
       "\n",
       "    .dataframe thead th {\n",
       "        text-align: right;\n",
       "    }\n",
       "</style>\n",
       "<table border=\"1\" class=\"dataframe\">\n",
       "  <thead>\n",
       "    <tr style=\"text-align: right;\">\n",
       "      <th></th>\n",
       "      <th>Name</th>\n",
       "      <th>Class</th>\n",
       "      <th>City</th>\n",
       "    </tr>\n",
       "  </thead>\n",
       "  <tbody>\n",
       "    <tr>\n",
       "      <th>0</th>\n",
       "      <td>Ashu</td>\n",
       "      <td>3</td>\n",
       "      <td>Delhi</td>\n",
       "    </tr>\n",
       "    <tr>\n",
       "      <th>1</th>\n",
       "      <td>Anuu</td>\n",
       "      <td>12</td>\n",
       "      <td>Jamnapar</td>\n",
       "    </tr>\n",
       "    <tr>\n",
       "      <th>2</th>\n",
       "      <td>kalu</td>\n",
       "      <td>11</td>\n",
       "      <td>Goa</td>\n",
       "    </tr>\n",
       "  </tbody>\n",
       "</table>\n",
       "</div>"
      ],
      "text/plain": [
       "   Name  Class      City\n",
       "0  Ashu      3     Delhi\n",
       "1  Anuu     12  Jamnapar\n",
       "2  kalu     11       Goa"
      ]
     },
     "execution_count": 13,
     "metadata": {},
     "output_type": "execute_result"
    }
   ],
   "source": [
    "student_records(Name = ['Ashu','Anuu','kalu'],\n",
    "               Class = [3, 12 , 11],\n",
    "               City = ['Delhi' , 'Jamnapar' , 'Goa'])"
   ]
  },
  {
   "cell_type": "code",
   "execution_count": 31,
   "id": "59365d20-f1c9-400b-abe8-4935f895eb1c",
   "metadata": {},
   "outputs": [
    {
     "name": "stdout",
     "output_type": "stream",
     "text": [
      "Sat Jul  5 12:11:05 2025\n",
      "Timer has been stopper\n"
     ]
    }
   ],
   "source": [
    "#creating a time function\n",
    "def show_time():\n",
    "    try:\n",
    "        while True:\n",
    "            import time\n",
    "            print(time.asctime())\n",
    "            time.sleep(1) #it means it will change the time in  every 1second\n",
    "            display(clear = True)#this line is for showing only the latest time it clears the previous one\n",
    "    except:\n",
    "        print('Timer has been stopper')#when we stop the timer this line will printed\n",
    "\n",
    "show_time()"
   ]
  },
  {
   "cell_type": "code",
   "execution_count": 20,
   "id": "28665437-e21b-4959-b230-601c019f3ba5",
   "metadata": {},
   "outputs": [],
   "source": [
    "def show_time():\n",
    "  try:\n",
    "    while True:\n",
    "      import time\n",
    "      print(time.asctime())\n",
    "      time.sleep(2)\n",
    "      display(clear = True)\n",
    "  except:\n",
    "    print('Timer has been Stopped!!')"
   ]
  },
  {
   "cell_type": "code",
   "execution_count": 27,
   "id": "8850610d-7e93-47a8-a151-52b0dbf1c0b1",
   "metadata": {},
   "outputs": [
    {
     "name": "stdout",
     "output_type": "stream",
     "text": [
      "Sat Jul  5 12:10:39 2025\n",
      "Timer has been Stopped!!\n"
     ]
    }
   ],
   "source": [
    "show_time()"
   ]
  },
  {
   "cell_type": "code",
   "execution_count": null,
   "id": "854c01f0-f01c-4137-a81b-36c43d7d463d",
   "metadata": {},
   "outputs": [],
   "source": []
  },
  {
   "cell_type": "code",
   "execution_count": null,
   "id": "cdd6d705-175b-400b-9fda-2a84e2e74ec3",
   "metadata": {},
   "outputs": [],
   "source": []
  }
 ],
 "metadata": {
  "kernelspec": {
   "display_name": "Python [conda env:base] *",
   "language": "python",
   "name": "conda-base-py"
  },
  "language_info": {
   "codemirror_mode": {
    "name": "ipython",
    "version": 3
   },
   "file_extension": ".py",
   "mimetype": "text/x-python",
   "name": "python",
   "nbconvert_exporter": "python",
   "pygments_lexer": "ipython3",
   "version": "3.11.7"
  },
  "widgets": {
   "application/vnd.jupyter.widget-state+json": {
    "state": {},
    "version_major": 2,
    "version_minor": 0
   }
  }
 },
 "nbformat": 4,
 "nbformat_minor": 5
}
