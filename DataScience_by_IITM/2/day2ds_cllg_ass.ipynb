{
 "cells": [
  {
   "cell_type": "code",
   "execution_count": 2,
   "id": "2eecd80c-09d2-452c-9fff-7c5d76f2dd8f",
   "metadata": {},
   "outputs": [],
   "source": [
    "#even odd"
   ]
  },
  {
   "cell_type": "code",
   "execution_count": 8,
   "id": "6a56986f-e1ec-47bf-b562-3f0d5d289c05",
   "metadata": {},
   "outputs": [],
   "source": [
    "def even_odd():\n",
    "    num = int(input('enter your number'))\n",
    "    if num%2 == 0:\n",
    "        print('The number is even !!')\n",
    "    else:\n",
    "        print('the number is prime !!!')\n",
    "        "
   ]
  },
  {
   "cell_type": "code",
   "execution_count": 10,
   "id": "b1bf2e39-b793-470a-bdb5-ca514bcd298c",
   "metadata": {},
   "outputs": [
    {
     "name": "stdin",
     "output_type": "stream",
     "text": [
      "enter your number 55\n"
     ]
    },
    {
     "name": "stdout",
     "output_type": "stream",
     "text": [
      "the number is prime !!!\n"
     ]
    }
   ],
   "source": [
    "even_odd()"
   ]
  },
  {
   "cell_type": "code",
   "execution_count": 20,
   "id": "e5815eac-ae2b-4782-8209-f5fecd944774",
   "metadata": {},
   "outputs": [],
   "source": [
    "def pyramid(n,typ = 'centre' , shape = '*'):\n",
    "    if typ == 'right':\n",
    "        space = ''\n",
    "    elif typ == 'left':\n",
    "        space = '  '\n",
    "    elif typ == 'centre':\n",
    "        space = ' '\n",
    "    for i in range(1,n+1):\n",
    "        print(space*(n-i) + i*f' {shape} ')\n",
    "    \n",
    "        "
   ]
  },
  {
   "cell_type": "code",
   "execution_count": 24,
   "id": "24a218e8-285d-46dd-a045-0622b183203d",
   "metadata": {},
   "outputs": [
    {
     "name": "stdout",
     "output_type": "stream",
     "text": [
      "     * \n",
      "    *  * \n",
      "   *  *  * \n",
      "  *  *  *  * \n",
      " *  *  *  *  * \n"
     ]
    }
   ],
   "source": [
    "pyramid(5,'centre','*')"
   ]
  },
  {
   "cell_type": "code",
   "execution_count": 26,
   "id": "7810f66a-7182-4a7c-90eb-3465930a7038",
   "metadata": {},
   "outputs": [],
   "source": [
    "#hashtag generator"
   ]
  },
  {
   "cell_type": "code",
   "execution_count": 28,
   "id": "f0716f14-8771-4b8c-a3e0-d522e7986edc",
   "metadata": {},
   "outputs": [],
   "source": [
    "def hashtag_generator(*args):\n",
    "    result = []\n",
    "    for i in args:\n",
    "        result.append('#' + i.upper())\n",
    "    return result\n",
    "        "
   ]
  },
  {
   "cell_type": "code",
   "execution_count": 30,
   "id": "b4a37109-b83c-4b68-b2c2-a0c0d7db1103",
   "metadata": {},
   "outputs": [
    {
     "data": {
      "text/plain": [
       "['#A', '#B', '#D', '#F', '#G']"
      ]
     },
     "execution_count": 30,
     "metadata": {},
     "output_type": "execute_result"
    }
   ],
   "source": [
    "hashtag_generator('a','b','d','f','g')"
   ]
  },
  {
   "cell_type": "code",
   "execution_count": 42,
   "id": "43f254dc-eeb3-47c9-90ca-fc5a16d2dcc1",
   "metadata": {},
   "outputs": [
    {
     "data": {
      "text/html": [
       "<div>\n",
       "<style scoped>\n",
       "    .dataframe tbody tr th:only-of-type {\n",
       "        vertical-align: middle;\n",
       "    }\n",
       "\n",
       "    .dataframe tbody tr th {\n",
       "        vertical-align: top;\n",
       "    }\n",
       "\n",
       "    .dataframe thead th {\n",
       "        text-align: right;\n",
       "    }\n",
       "</style>\n",
       "<table border=\"1\" class=\"dataframe\">\n",
       "  <thead>\n",
       "    <tr style=\"text-align: right;\">\n",
       "      <th></th>\n",
       "      <th>Name</th>\n",
       "      <th>Age</th>\n",
       "      <th>Salary</th>\n",
       "      <th>City</th>\n",
       "    </tr>\n",
       "  </thead>\n",
       "  <tbody>\n",
       "    <tr>\n",
       "      <th>0</th>\n",
       "      <td>ashmeet</td>\n",
       "      <td>15</td>\n",
       "      <td>2000</td>\n",
       "      <td>Delhi</td>\n",
       "    </tr>\n",
       "    <tr>\n",
       "      <th>1</th>\n",
       "      <td>ashh</td>\n",
       "      <td>55</td>\n",
       "      <td>200</td>\n",
       "      <td>Goa</td>\n",
       "    </tr>\n",
       "    <tr>\n",
       "      <th>2</th>\n",
       "      <td>aman</td>\n",
       "      <td>66</td>\n",
       "      <td>622</td>\n",
       "      <td>Maharashtra</td>\n",
       "    </tr>\n",
       "  </tbody>\n",
       "</table>\n",
       "</div>"
      ],
      "text/plain": [
       "      Name  Age  Salary         City\n",
       "0  ashmeet   15    2000        Delhi\n",
       "1     ashh   55     200          Goa\n",
       "2     aman   66     622  Maharashtra"
      ]
     },
     "execution_count": 42,
     "metadata": {},
     "output_type": "execute_result"
    }
   ],
   "source": [
    "#keyword_arguments kwargs\n",
    "def student_records(**kwargs):\n",
    "    import pandas as pd\n",
    "    try:\n",
    "        result = pd.DataFrame(kwargs)\n",
    "        return result\n",
    "    except:\n",
    "        result = pd.DataFrame(kwargs,index=[1])\n",
    "        return result\n",
    "\n",
    "\n",
    "student_records(\n",
    "    Name = ['ashmeet' , 'ashh' , 'aman'],\n",
    "    Age  = [15,55,66],\n",
    "    Salary = [2000,200,622],\n",
    "    City = ['Delhi', 'Goa', 'Maharashtra']\n",
    ")"
   ]
  },
  {
   "cell_type": "code",
   "execution_count": 44,
   "id": "e2689940-08d3-4a01-9307-eb067e11b805",
   "metadata": {},
   "outputs": [
    {
     "data": {
      "text/html": [
       "<div>\n",
       "<style scoped>\n",
       "    .dataframe tbody tr th:only-of-type {\n",
       "        vertical-align: middle;\n",
       "    }\n",
       "\n",
       "    .dataframe tbody tr th {\n",
       "        vertical-align: top;\n",
       "    }\n",
       "\n",
       "    .dataframe thead th {\n",
       "        text-align: right;\n",
       "    }\n",
       "</style>\n",
       "<table border=\"1\" class=\"dataframe\">\n",
       "  <thead>\n",
       "    <tr style=\"text-align: right;\">\n",
       "      <th></th>\n",
       "      <th>Name</th>\n",
       "      <th>Age</th>\n",
       "      <th>Salary</th>\n",
       "      <th>City</th>\n",
       "    </tr>\n",
       "  </thead>\n",
       "  <tbody>\n",
       "    <tr>\n",
       "      <th>0</th>\n",
       "      <td>ashmeet</td>\n",
       "      <td>15</td>\n",
       "      <td>2000</td>\n",
       "      <td>Delhi</td>\n",
       "    </tr>\n",
       "    <tr>\n",
       "      <th>1</th>\n",
       "      <td>ashh</td>\n",
       "      <td>55</td>\n",
       "      <td>200</td>\n",
       "      <td>Goa</td>\n",
       "    </tr>\n",
       "    <tr>\n",
       "      <th>2</th>\n",
       "      <td>aman</td>\n",
       "      <td>66</td>\n",
       "      <td>622</td>\n",
       "      <td>Maharashtra</td>\n",
       "    </tr>\n",
       "  </tbody>\n",
       "</table>\n",
       "</div>"
      ],
      "text/plain": [
       "      Name  Age  Salary         City\n",
       "0  ashmeet   15    2000        Delhi\n",
       "1     ashh   55     200          Goa\n",
       "2     aman   66     622  Maharashtra"
      ]
     },
     "execution_count": 44,
     "metadata": {},
     "output_type": "execute_result"
    }
   ],
   "source": [
    "student_records(\n",
    "    Name = ['ashmeet' , 'ashh' , 'aman'],\n",
    "    Age  = [15,55,66],\n",
    "    Salary = [2000,200,622],\n",
    "    City = ['Delhi', 'Goa', 'Maharashtra']\n",
    ")"
   ]
  },
  {
   "cell_type": "code",
   "execution_count": null,
   "id": "419f028d-2425-4845-9358-5a0e79ba59b6",
   "metadata": {},
   "outputs": [],
   "source": []
  }
 ],
 "metadata": {
  "kernelspec": {
   "display_name": "Python [conda env:base] *",
   "language": "python",
   "name": "conda-base-py"
  },
  "language_info": {
   "codemirror_mode": {
    "name": "ipython",
    "version": 3
   },
   "file_extension": ".py",
   "mimetype": "text/x-python",
   "name": "python",
   "nbconvert_exporter": "python",
   "pygments_lexer": "ipython3",
   "version": "3.11.7"
  },
  "widgets": {
   "application/vnd.jupyter.widget-state+json": {
    "state": {},
    "version_major": 2,
    "version_minor": 0
   }
  }
 },
 "nbformat": 4,
 "nbformat_minor": 5
}
