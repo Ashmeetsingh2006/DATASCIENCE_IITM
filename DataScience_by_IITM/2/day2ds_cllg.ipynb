{
 "cells": [
  {
   "cell_type": "code",
   "execution_count": 2,
   "id": "845c8ee9-8f31-43d1-9d1b-6ece5fbcd90a",
   "metadata": {},
   "outputs": [],
   "source": [
    "#functiona programming"
   ]
  },
  {
   "cell_type": "code",
   "execution_count": 4,
   "id": "89b42fbc-a59d-4f41-b744-6e12f3bd07fa",
   "metadata": {},
   "outputs": [],
   "source": [
    "def check_palidrome(word):\n",
    "    return word"
   ]
  },
  {
   "cell_type": "code",
   "execution_count": 6,
   "id": "fb1c6822-210f-4b4f-af2c-e2ee2c849832",
   "metadata": {},
   "outputs": [
    {
     "data": {
      "text/plain": [
       "'nitin'"
      ]
     },
     "execution_count": 6,
     "metadata": {},
     "output_type": "execute_result"
    }
   ],
   "source": [
    "check_palidrome('nitin')"
   ]
  },
  {
   "cell_type": "code",
   "execution_count": 12,
   "id": "3cfc5f7b-8572-47b4-85d1-eb5bdbcb22df",
   "metadata": {},
   "outputs": [
    {
     "data": {
      "text/plain": [
       "'ykcul'"
      ]
     },
     "execution_count": 12,
     "metadata": {},
     "output_type": "execute_result"
    }
   ],
   "source": [
    "a = 'nitin'\n",
    "a[::-1]\n"
   ]
  },
  {
   "cell_type": "code",
   "execution_count": 20,
   "id": "646c6e15-6c35-48fb-a947-02f526eadf29",
   "metadata": {},
   "outputs": [
    {
     "name": "stdout",
     "output_type": "stream",
     "text": [
      " nitin is a palidrome\n"
     ]
    }
   ],
   "source": [
    "a = 'nitin'\n",
    "if a == a[::-1]:\n",
    "    print(f' {a} is a palidrome')\n",
    "else:\n",
    "    print('not a palindrome')\n",
    "    "
   ]
  },
  {
   "cell_type": "code",
   "execution_count": 32,
   "id": "9ade6b89-9b20-424a-8d74-10902ced96fb",
   "metadata": {},
   "outputs": [
    {
     "name": "stdout",
     "output_type": "stream",
     "text": [
      " nitin is a palidrome\n"
     ]
    }
   ],
   "source": [
    "def check_palidrome(word):\n",
    "    if word == word[::-1]:\n",
    "        print(f' {a} is a palidrome')\n",
    "    else:\n",
    "        print(f'{a} not a palindrome')\n",
    "    \n",
    "    \n",
    "check_palidrome('nitin')    \n"
   ]
  },
  {
   "cell_type": "code",
   "execution_count": 38,
   "id": "4c671ea7-876e-4faf-ab56-6c4d6d758115",
   "metadata": {},
   "outputs": [
    {
     "name": "stdout",
     "output_type": "stream",
     "text": [
      " nitin is a palidrome\n"
     ]
    }
   ],
   "source": [
    "def check_palidrome(word):\n",
    "    word = word.upper()\n",
    "    if word == word[::-1]:\n",
    "        print(f' {a} is a palidrome')\n",
    "    else:\n",
    "        print(f'{a} not a palindrome')\n",
    "    \n",
    "    \n",
    "check_palidrome('Nitin') \n"
   ]
  },
  {
   "cell_type": "code",
   "execution_count": 9,
   "id": "320b87a3-e7c6-4730-b708-18150e9df0c8",
   "metadata": {},
   "outputs": [
    {
     "name": "stdout",
     "output_type": "stream",
     "text": [
      "ASH not a palindrome\n"
     ]
    }
   ],
   "source": [
    "def check_palidrome(word):\n",
    "    if type(word) == str:\n",
    "        word = word.upper()\n",
    "        \n",
    "        if word == word[::-1]:\n",
    "            print(f' {word} is a palidrome')\n",
    "        else:\n",
    "            print(f'{word} not a palindrome')\n",
    "    else:\n",
    "        return 'invalid data type'\n",
    "\n",
    "\n",
    "check_palidrome('ash')         "
   ]
  },
  {
   "cell_type": "code",
   "execution_count": 48,
   "id": "f5076ac1-737c-4e2b-8d6f-c85d89a87dd5",
   "metadata": {},
   "outputs": [],
   "source": [
    "#fibonacciiii "
   ]
  },
  {
   "cell_type": "code",
   "execution_count": 78,
   "id": "e7cc12e8-35a3-4a3b-9b87-07e31e1f5edd",
   "metadata": {},
   "outputs": [
    {
     "name": "stdout",
     "output_type": "stream",
     "text": [
      "[0, 1, 1, 2, 3, 5, 8, 13, 21, 34, 55, 89, 144, 233, 377, 610, 987, 1597, 2584, 4181, 6765, 10946]\n"
     ]
    }
   ],
   "source": [
    "def give_fibo(n):\n",
    "    fibo = [0,1]\n",
    "    for i in range(n-2):\n",
    "        last_num = fibo[-1]\n",
    "        second_last_num = fibo[-2]\n",
    "        next_num = last_num + second_last_num\n",
    "        fibo.append(next_num)\n",
    "        \n",
    "    return fibo   \n",
    "        \n",
    "print(give_fibo(22))  "
   ]
  },
  {
   "cell_type": "code",
   "execution_count": 52,
   "id": "c2bcbbbe-9d14-4e5a-a8ae-dbb73170c7bc",
   "metadata": {},
   "outputs": [
    {
     "name": "stdout",
     "output_type": "stream",
     "text": [
      "78\n"
     ]
    }
   ],
   "source": [
    "data  = [56,45,63,78]\n",
    "print(data[-1])\n"
   ]
  },
  {
   "cell_type": "code",
   "execution_count": 96,
   "id": "c14bc235-da25-4c3a-9be1-25b783794b8b",
   "metadata": {},
   "outputs": [
    {
     "name": "stdout",
     "output_type": "stream",
     "text": [
      "13 is a prime number\n"
     ]
    }
   ],
   "source": [
    "def check_prime(number):\n",
    "    for i in range(2,number):\n",
    "        if number%i == 0:\n",
    "            print(f'{number } is not a prime number')\n",
    "            break\n",
    "    else:\n",
    "        print(f'{number} is a prime number')\n",
    "check_prime(13)\n"
   ]
  },
  {
   "cell_type": "code",
   "execution_count": 100,
   "id": "9a9afb52-cc4b-44e5-865b-d08cc38b9692",
   "metadata": {},
   "outputs": [
    {
     "name": "stdout",
     "output_type": "stream",
     "text": [
      "hello hello hello hello hello \n"
     ]
    }
   ],
   "source": [
    "n = 5.0\n",
    "print('hello ' * int(n))\n"
   ]
  },
  {
   "cell_type": "code",
   "execution_count": 106,
   "id": "036354d6-40f5-4e0d-b3bc-90dfa555c29d",
   "metadata": {},
   "outputs": [
    {
     "name": "stdout",
     "output_type": "stream",
     "text": [
      "* \n",
      "* * \n",
      "* * * \n",
      "* * * * \n",
      "* * * * * \n"
     ]
    }
   ],
   "source": [
    "n = 5\n",
    "for i in range(1,n+1):\n",
    "    print(i * '* ')"
   ]
  },
  {
   "cell_type": "code",
   "execution_count": 118,
   "id": "0011ee7e-de05-4252-9028-74946f1a9ccf",
   "metadata": {},
   "outputs": [
    {
     "name": "stdout",
     "output_type": "stream",
     "text": [
      "    *  \n",
      "   *  *  \n",
      "  *  *  *  \n",
      " *  *  *  *  \n",
      "*  *  *  *  *  \n"
     ]
    }
   ],
   "source": [
    "n = 5\n",
    "for i in range(1,n+1):\n",
    "    print(' ' *(n-i) + i*'*  ')"
   ]
  },
  {
   "cell_type": "code",
   "execution_count": 2,
   "id": "b264a2c1-a20d-49d2-b6f3-85184ce57797",
   "metadata": {},
   "outputs": [
    {
     "name": "stdout",
     "output_type": "stream",
     "text": [
      "$ \n",
      "$ $ \n",
      "$ $ $ \n",
      "$ $ $ $ \n",
      "$ $ $ $ $ \n",
      "$ $ $ $ $ $ \n",
      "$ $ $ $ $ $ $ \n",
      "$ $ $ $ $ $ $ $ \n",
      "$ $ $ $ $ $ $ $ $ \n",
      "$ $ $ $ $ $ $ $ $ $ \n"
     ]
    }
   ],
   "source": [
    "def star(n,typ = 'left'):\n",
    "    if typ == 'left':\n",
    "        space = ''\n",
    "    elif typ == 'right':\n",
    "        space = '  '\n",
    "    elif typ == 'centre':\n",
    "        space =' '\n",
    "    for i in range(1,n+1):\n",
    "        print(space *(n-i) + i*'$ ')\n",
    "star(10,'left')    "
   ]
  },
  {
   "cell_type": "code",
   "execution_count": 3,
   "id": "91be6289-057b-466f-ad8e-39f24a13b08e",
   "metadata": {},
   "outputs": [
    {
     "name": "stdout",
     "output_type": "stream",
     "text": [
      "         iitm \n",
      "        iitm iitm \n",
      "       iitm iitm iitm \n",
      "      iitm iitm iitm iitm \n",
      "     iitm iitm iitm iitm iitm \n",
      "    iitm iitm iitm iitm iitm iitm \n",
      "   iitm iitm iitm iitm iitm iitm iitm \n",
      "  iitm iitm iitm iitm iitm iitm iitm iitm \n",
      " iitm iitm iitm iitm iitm iitm iitm iitm iitm \n",
      "iitm iitm iitm iitm iitm iitm iitm iitm iitm iitm \n"
     ]
    }
   ],
   "source": [
    "def star(n,typ = 'left',shape = '*'):\n",
    "    if typ == 'left':\n",
    "        space = ''\n",
    "    elif typ == 'right':\n",
    "        space = '  '\n",
    "    elif typ == 'centre':\n",
    "        space =' '\n",
    "    for i in range(1,n+1):\n",
    "        print(space *(n-i) + i*f'{shape} ')\n",
    "star(10,'centre','iitm')    "
   ]
  },
  {
   "cell_type": "code",
   "execution_count": 152,
   "id": "9ae460d6-5026-4c55-a86e-3323774a98fd",
   "metadata": {},
   "outputs": [
    {
     "data": {
      "text/plain": [
       "55"
      ]
     },
     "execution_count": 152,
     "metadata": {},
     "output_type": "execute_result"
    }
   ],
   "source": [
    "def sum_of_n(n):\n",
    "    result = 0\n",
    "    for i in range(1,n+1):\n",
    "        result += i\n",
    "    return result    \n",
    "\n",
    "sum_of_n(10)"
   ]
  },
  {
   "cell_type": "code",
   "execution_count": 2,
   "id": "535aeb3c-9122-4452-aa05-22d18a93e46d",
   "metadata": {},
   "outputs": [
    {
     "data": {
      "text/plain": [
       "120"
      ]
     },
     "execution_count": 2,
     "metadata": {},
     "output_type": "execute_result"
    }
   ],
   "source": [
    "def factorial(n):\n",
    "    result = 1\n",
    "    for i in range(1,n+1):\n",
    "        result *= i\n",
    "    return result\n",
    "factorial(5)"
   ]
  },
  {
   "cell_type": "code",
   "execution_count": 2,
   "id": "9ae03887-9faa-4a10-a5e7-355446002c40",
   "metadata": {},
   "outputs": [
    {
     "name": "stdout",
     "output_type": "stream",
     "text": [
      "(1, 2, 4)\n"
     ]
    }
   ],
   "source": [
    "def total_sales(*args):  #star * means we can pass more than one arguments and helps in unpacking\n",
    "    print(args)\n",
    "total_sales(1,2,4)    \n",
    "    \n",
    "    "
   ]
  },
  {
   "cell_type": "code",
   "execution_count": 4,
   "id": "23264e3e-c08d-4276-a29a-d18d48e663c7",
   "metadata": {},
   "outputs": [
    {
     "data": {
      "text/plain": [
       "111"
      ]
     },
     "execution_count": 4,
     "metadata": {},
     "output_type": "execute_result"
    }
   ],
   "source": [
    "def total_s(*args):\n",
    "    result = 0\n",
    "    for i in args:\n",
    "        result += i\n",
    "    return result\n",
    "total_s(1,5,69,36)"
   ]
  },
  {
   "cell_type": "code",
   "execution_count": 10,
   "id": "f470cc60-f8fb-41ed-94f1-b1d7ab205a67",
   "metadata": {},
   "outputs": [
    {
     "name": "stdout",
     "output_type": "stream",
     "text": [
      "233\n"
     ]
    }
   ],
   "source": [
    "sales = [456,585,566,233,489,266,333]\n",
    "min_element = sales[0]\n",
    "for i in sales[1:]:\n",
    "    if i < min_element:\n",
    "        min_element = i\n",
    "print(min_element)    \n",
    "    \n"
   ]
  },
  {
   "cell_type": "code",
   "execution_count": 40,
   "id": "29937df7-fb3f-45fe-b13d-6e4504c90a61",
   "metadata": {},
   "outputs": [
    {
     "data": {
      "text/plain": [
       "12"
      ]
     },
     "execution_count": 40,
     "metadata": {},
     "output_type": "execute_result"
    }
   ],
   "source": [
    "def minin(*sales):\n",
    "    min_element = sales[0]\n",
    "    for i in sales[1:]:\n",
    "        if i < min_element:\n",
    "            min_element = i\n",
    "    return min_element   \n",
    "\n",
    "minin(12,20,36,58,55)"
   ]
  },
  {
   "cell_type": "code",
   "execution_count": 42,
   "id": "5efdf378-78b1-4878-a32a-3dc350bb8f17",
   "metadata": {},
   "outputs": [
    {
     "data": {
      "text/plain": [
       "500"
      ]
     },
     "execution_count": 42,
     "metadata": {},
     "output_type": "execute_result"
    }
   ],
   "source": [
    "def maxim(*sales):\n",
    "    max_element = sales[0]\n",
    "    for i in sales[1:]:\n",
    "        if i > max_element:\n",
    "            max_element = i\n",
    "    return max_element    \n",
    "\n",
    "maxim(12,20,36,58,55,500)"
   ]
  },
  {
   "cell_type": "code",
   "execution_count": 55,
   "id": "30b61a43-386e-4969-9453-bac24d8620a6",
   "metadata": {},
   "outputs": [
    {
     "data": {
      "text/plain": [
       "['#OLA', '#UBER', '#RAPIDO', '#ADANI', '#TATA']"
      ]
     },
     "execution_count": 55,
     "metadata": {},
     "output_type": "execute_result"
    }
   ],
   "source": [
    "company = ['ola','uber','rapido','adani','tata']\n",
    "def add_hashtag(*company):\n",
    "    result = []\n",
    "    for i in company:\n",
    "        result.append('#'+i.upper())\n",
    "    return result\n",
    "add_hashtag(*company)"
   ]
  },
  {
   "cell_type": "code",
   "execution_count": 61,
   "id": "0abfecf0-e59b-4492-85e2-e5a32b55d02f",
   "metadata": {},
   "outputs": [
    {
     "data": {
      "text/html": [
       "<div>\n",
       "<style scoped>\n",
       "    .dataframe tbody tr th:only-of-type {\n",
       "        vertical-align: middle;\n",
       "    }\n",
       "\n",
       "    .dataframe tbody tr th {\n",
       "        vertical-align: top;\n",
       "    }\n",
       "\n",
       "    .dataframe thead th {\n",
       "        text-align: right;\n",
       "    }\n",
       "</style>\n",
       "<table border=\"1\" class=\"dataframe\">\n",
       "  <thead>\n",
       "    <tr style=\"text-align: right;\">\n",
       "      <th></th>\n",
       "      <th>Name</th>\n",
       "      <th>Age</th>\n",
       "      <th>Sec</th>\n",
       "      <th>Roll no</th>\n",
       "      <th>Class</th>\n",
       "    </tr>\n",
       "  </thead>\n",
       "  <tbody>\n",
       "    <tr>\n",
       "      <th>1</th>\n",
       "      <td>mpaan</td>\n",
       "      <td>21</td>\n",
       "      <td>a</td>\n",
       "      <td>12</td>\n",
       "      <td>12</td>\n",
       "    </tr>\n",
       "  </tbody>\n",
       "</table>\n",
       "</div>"
      ],
      "text/plain": [
       "    Name  Age Sec  Roll no  Class\n",
       "1  mpaan   21   a       12     12"
      ]
     },
     "execution_count": 61,
     "metadata": {},
     "output_type": "execute_result"
    }
   ],
   "source": [
    "def store_records(name,age,sec,roll_no,Class):\n",
    "    data = {\n",
    "        'Name' : name, 'Age' : age, 'Sec' : sec, 'Roll no' : roll_no, 'Class' : lass}\n",
    "    import pandas as pd\n",
    "    result = pd.DataFrame(data,index = [1])\n",
    "    return result\n",
    "store_records('mohan',21,'a',12,12)\n",
    "store_records('maan',21,'a',12,12)\n",
    "store_records('mpaan',21,'a',12,12)\n"
   ]
  },
  {
   "cell_type": "code",
   "execution_count": 18,
   "id": "08e27824-3461-4f7d-a615-20d8c74b88bf",
   "metadata": {},
   "outputs": [
    {
     "data": {
      "text/html": [
       "<div>\n",
       "<style scoped>\n",
       "    .dataframe tbody tr th:only-of-type {\n",
       "        vertical-align: middle;\n",
       "    }\n",
       "\n",
       "    .dataframe tbody tr th {\n",
       "        vertical-align: top;\n",
       "    }\n",
       "\n",
       "    .dataframe thead th {\n",
       "        text-align: right;\n",
       "    }\n",
       "</style>\n",
       "<table border=\"1\" class=\"dataframe\">\n",
       "  <thead>\n",
       "    <tr style=\"text-align: right;\">\n",
       "      <th></th>\n",
       "      <th>Name</th>\n",
       "      <th>Age</th>\n",
       "      <th>Roll_no</th>\n",
       "      <th>Address</th>\n",
       "    </tr>\n",
       "  </thead>\n",
       "  <tbody>\n",
       "    <tr>\n",
       "      <th>0</th>\n",
       "      <td>ashmeet</td>\n",
       "      <td>20</td>\n",
       "      <td>10</td>\n",
       "      <td>delhi</td>\n",
       "    </tr>\n",
       "    <tr>\n",
       "      <th>1</th>\n",
       "      <td>ashh</td>\n",
       "      <td>30</td>\n",
       "      <td>12</td>\n",
       "      <td>mumbai</td>\n",
       "    </tr>\n",
       "    <tr>\n",
       "      <th>2</th>\n",
       "      <td>singh</td>\n",
       "      <td>40</td>\n",
       "      <td>33</td>\n",
       "      <td>goa</td>\n",
       "    </tr>\n",
       "  </tbody>\n",
       "</table>\n",
       "</div>"
      ],
      "text/plain": [
       "      Name  Age  Roll_no Address\n",
       "0  ashmeet   20       10   delhi\n",
       "1     ashh   30       12  mumbai\n",
       "2    singh   40       33     goa"
      ]
     },
     "execution_count": 18,
     "metadata": {},
     "output_type": "execute_result"
    }
   ],
   "source": [
    "def student_records(**kwargs):\n",
    "    import pandas as pd\n",
    "    try:\n",
    "        result = pd.DataFrame(kwargs)\n",
    "        return result\n",
    "    except:\n",
    "        result = pd.DataFrame(kwargs,index=[1])\n",
    "        return result\n",
    "      "
   ]
  },
  {
   "cell_type": "code",
   "execution_count": 20,
   "id": "238d12f9-5cf7-487c-8be4-1dda45c0b52b",
   "metadata": {},
   "outputs": [
    {
     "data": {
      "text/html": [
       "<div>\n",
       "<style scoped>\n",
       "    .dataframe tbody tr th:only-of-type {\n",
       "        vertical-align: middle;\n",
       "    }\n",
       "\n",
       "    .dataframe tbody tr th {\n",
       "        vertical-align: top;\n",
       "    }\n",
       "\n",
       "    .dataframe thead th {\n",
       "        text-align: right;\n",
       "    }\n",
       "</style>\n",
       "<table border=\"1\" class=\"dataframe\">\n",
       "  <thead>\n",
       "    <tr style=\"text-align: right;\">\n",
       "      <th></th>\n",
       "      <th>Name</th>\n",
       "      <th>Age</th>\n",
       "      <th>Roll_no</th>\n",
       "      <th>Address</th>\n",
       "    </tr>\n",
       "  </thead>\n",
       "  <tbody>\n",
       "    <tr>\n",
       "      <th>0</th>\n",
       "      <td>ashmeet</td>\n",
       "      <td>20</td>\n",
       "      <td>10</td>\n",
       "      <td>delhi</td>\n",
       "    </tr>\n",
       "    <tr>\n",
       "      <th>1</th>\n",
       "      <td>ashh</td>\n",
       "      <td>30</td>\n",
       "      <td>12</td>\n",
       "      <td>mumbai</td>\n",
       "    </tr>\n",
       "    <tr>\n",
       "      <th>2</th>\n",
       "      <td>singh</td>\n",
       "      <td>40</td>\n",
       "      <td>33</td>\n",
       "      <td>goa</td>\n",
       "    </tr>\n",
       "  </tbody>\n",
       "</table>\n",
       "</div>"
      ],
      "text/plain": [
       "      Name  Age  Roll_no Address\n",
       "0  ashmeet   20       10   delhi\n",
       "1     ashh   30       12  mumbai\n",
       "2    singh   40       33     goa"
      ]
     },
     "execution_count": 20,
     "metadata": {},
     "output_type": "execute_result"
    }
   ],
   "source": [
    "student_records(Name= ['ashmeet','ashh','singh'],\n",
    "                Age = [20,30,40],\n",
    "                Roll_no = [10,12,33],\n",
    "                Address =['delhi','mumbai','goa'])  \n",
    "\n"
   ]
  },
  {
   "cell_type": "code",
   "execution_count": null,
   "id": "0a3017c5-b6d0-4bf0-8dba-e5c0b2c92364",
   "metadata": {},
   "outputs": [],
   "source": []
  }
 ],
 "metadata": {
  "kernelspec": {
   "display_name": "Python [conda env:base] *",
   "language": "python",
   "name": "conda-base-py"
  },
  "language_info": {
   "codemirror_mode": {
    "name": "ipython",
    "version": 3
   },
   "file_extension": ".py",
   "mimetype": "text/x-python",
   "name": "python",
   "nbconvert_exporter": "python",
   "pygments_lexer": "ipython3",
   "version": "3.11.7"
  },
  "widgets": {
   "application/vnd.jupyter.widget-state+json": {
    "state": {},
    "version_major": 2,
    "version_minor": 0
   }
  }
 },
 "nbformat": 4,
 "nbformat_minor": 5
}
