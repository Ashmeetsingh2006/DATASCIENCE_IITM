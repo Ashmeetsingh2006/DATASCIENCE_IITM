{
 "cells": [
  {
   "cell_type": "markdown",
   "id": "abf5dc3b-cedd-4ce4-a2f0-7fcb55d47d5f",
   "metadata": {},
   "source": [
    "# Creating a simple class"
   ]
  },
  {
   "cell_type": "code",
   "execution_count": 3,
   "id": "baab4dcb-cf43-4c60-8781-9c8c36a3f62d",
   "metadata": {},
   "outputs": [],
   "source": [
    "class simple:\n",
    "    def __init__(self,name,age):\n",
    "        self.name = name\n",
    "        self.age = age\n",
    "        print('Helloooo users')\n",
    "    def introduce(self):\n",
    "        print(f'Hi my name is {self.name} and my age is {self.age}')\n",
    "    def study(self,subject):\n",
    "        print(f'Hi {self.name} is studying {subject}')\n",
    "    "
   ]
  },
  {
   "cell_type": "code",
   "execution_count": 5,
   "id": "3b958bf4-d8a5-4612-9c65-06b874a6ba57",
   "metadata": {},
   "outputs": [
    {
     "name": "stdout",
     "output_type": "stream",
     "text": [
      "Helloooo users\n"
     ]
    }
   ],
   "source": [
    "a = simple('ash','19')"
   ]
  },
  {
   "cell_type": "code",
   "execution_count": 7,
   "id": "9c14f11a-fbc1-40f6-b7c0-984c48092d4b",
   "metadata": {},
   "outputs": [
    {
     "name": "stdout",
     "output_type": "stream",
     "text": [
      "Hi my name is ash and my age is 19\n"
     ]
    }
   ],
   "source": [
    "a.introduce()"
   ]
  },
  {
   "cell_type": "code",
   "execution_count": null,
   "id": "6455f26e-2450-4c22-a388-0b8a27467d0d",
   "metadata": {},
   "outputs": [],
   "source": [
    "print("
   ]
  },
  {
   "cell_type": "code",
   "execution_count": 22,
   "id": "3bff4544-dd67-469f-a8c1-6ff1d108330e",
   "metadata": {},
   "outputs": [],
   "source": [
    "#assignment 3\n",
    "class Bankaccount:\n",
    "    def __init__(self,name,balance):\n",
    "        self.name = name\n",
    "        self.balance = balance\n",
    "        print(f'Hello {self.name} Bank account has been created successfully')\n",
    "    def deposit_money(self,amount):\n",
    "        self.balance += amount\n",
    "        print(f'you deposited {amount}')\n",
    "        print(f'YOur new balance is {self.balance}')\n",
    "    def withdraw(self,amount):\n",
    "        if self.balance >= amount:\n",
    "            self.balance -= amount\n",
    "            print(f'You withdraw {amount} ')\n",
    "            print(f'Your new balance is {self.balance}')\n",
    "        else:\n",
    "            print('you have insufficient balance')\n",
    "    def current_balance(self):\n",
    "        print(f'Your current balanace is {self.balance}')"
   ]
  },
  {
   "cell_type": "code",
   "execution_count": 24,
   "id": "ab64143e-63c7-4993-82d4-a7bed44ea7be",
   "metadata": {},
   "outputs": [
    {
     "name": "stdout",
     "output_type": "stream",
     "text": [
      "Hello Ash Bank account has been created successfully\n"
     ]
    }
   ],
   "source": [
    "a = Bankaccount('Ash',10000)"
   ]
  },
  {
   "cell_type": "code",
   "execution_count": 26,
   "id": "500c2bed-a4d2-4332-8980-379b7a6b091b",
   "metadata": {},
   "outputs": [
    {
     "name": "stdout",
     "output_type": "stream",
     "text": [
      "Your current balanace is 10000\n"
     ]
    }
   ],
   "source": [
    "a.current_balance()"
   ]
  },
  {
   "cell_type": "code",
   "execution_count": 28,
   "id": "56458b11-bd47-45e7-8c50-3ee05ff43adb",
   "metadata": {},
   "outputs": [
    {
     "name": "stdout",
     "output_type": "stream",
     "text": [
      "you deposited 5000\n",
      "YOur new balance is 15000\n"
     ]
    }
   ],
   "source": [
    "a.deposit_money(5000)"
   ]
  },
  {
   "cell_type": "code",
   "execution_count": 30,
   "id": "f3e8d6c7-5c87-4552-a9a3-e09b90027071",
   "metadata": {},
   "outputs": [
    {
     "name": "stdout",
     "output_type": "stream",
     "text": [
      "You withdraw 5000 \n",
      "Your new balance is 10000\n"
     ]
    }
   ],
   "source": [
    "a.withdraw(5000)"
   ]
  },
  {
   "cell_type": "code",
   "execution_count": 32,
   "id": "27862466-1cd1-4f38-ab7b-23106c470970",
   "metadata": {},
   "outputs": [
    {
     "name": "stdout",
     "output_type": "stream",
     "text": [
      "you have insufficient balance\n"
     ]
    }
   ],
   "source": [
    "a.withdraw(11000)"
   ]
  },
  {
   "cell_type": "code",
   "execution_count": 34,
   "id": "663bbe5b-f366-4f91-a552-4905df7aaaa3",
   "metadata": {},
   "outputs": [
    {
     "name": "stdout",
     "output_type": "stream",
     "text": [
      "You withdraw 10000 \n",
      "Your new balance is 0\n"
     ]
    }
   ],
   "source": [
    "a.withdraw(10000)"
   ]
  },
  {
   "cell_type": "code",
   "execution_count": 42,
   "id": "1e4615fa-dbf1-408b-9a5e-fe3392a88b3e",
   "metadata": {},
   "outputs": [
    {
     "name": "stdout",
     "output_type": "stream",
     "text": [
      "Ash\n"
     ]
    }
   ],
   "source": [
    "print(a.name)"
   ]
  },
  {
   "cell_type": "code",
   "execution_count": 44,
   "id": "074c16fb-eee5-45df-bfe3-6a1a6f5a087b",
   "metadata": {},
   "outputs": [],
   "source": [
    "#assignment1\n",
    "class Fan:\n",
    "    def __init__(self):\n",
    "        self.__speed = 0\n",
    "        self.__power_on = False\n",
    "        print('Fan has been created ')\n",
    "        \n",
    "    def turn_on(self):\n",
    "        self.__power_on = True\n",
    "        print('Fan has been turned on ')\n",
    "        \n",
    "    def turn_off(self):\n",
    "        self.__power_on = False\n",
    "        print('Fan has been turned off')\n",
    "\n",
    "    def increase_speed(self,value):\n",
    "        if not self.__power_on:\n",
    "            print('Turn on the fan first ')\n",
    "        else:\n",
    "            if 0 < value < 5:\n",
    "                self.__speed = value\n",
    "                print('Speed of the fan has been increased')\n",
    "            else:\n",
    "                print('You cannot change the speed anymore')\n",
    "\n",
    "    def decrease_speed(self,value):\n",
    "        if not self.__power_on:\n",
    "            print('Turn on the fan first ')\n",
    "        else:\n",
    "            if 0 > value > 5:\n",
    "                self.__speed = value\n",
    "                print('Speed of the fan has been increased')\n",
    "            else:\n",
    "                print('You cannot change the speed anymore')"
   ]
  },
  {
   "cell_type": "code",
   "execution_count": 48,
   "id": "1c1c539a-b6ec-45c5-a3ac-eb3d5e6b6960",
   "metadata": {},
   "outputs": [
    {
     "name": "stdout",
     "output_type": "stream",
     "text": [
      "Fan has been created \n"
     ]
    }
   ],
   "source": [
    "a = Fan()"
   ]
  },
  {
   "cell_type": "code",
   "execution_count": 50,
   "id": "83fc4f88-0733-487f-b6ab-6d4b7626c1ca",
   "metadata": {},
   "outputs": [
    {
     "name": "stdout",
     "output_type": "stream",
     "text": [
      "Fan has been turned on \n"
     ]
    }
   ],
   "source": [
    "a.turn_on()"
   ]
  },
  {
   "cell_type": "code",
   "execution_count": 56,
   "id": "bfbf748b-a730-4311-89bb-d4336107e9c9",
   "metadata": {},
   "outputs": [
    {
     "name": "stdout",
     "output_type": "stream",
     "text": [
      "Speed of the fan has been increased\n"
     ]
    }
   ],
   "source": [
    "a.increase_speed(3)"
   ]
  },
  {
   "cell_type": "code",
   "execution_count": null,
   "id": "eb37e27d-185c-48d6-ab97-e53c28058234",
   "metadata": {},
   "outputs": [],
   "source": [
    "# def increase_speed(self,value):\n",
    "#     if 0 < value < 5:\n",
    "#         self.__speed = value\n",
    "#         print('Speed of the fan has been increased')\n",
    "#     else:\n",
    "#         print('You cannot change the speed anymore')\n",
    "# if self.__speed"
   ]
  },
  {
   "cell_type": "code",
   "execution_count": 78,
   "id": "99b8d419-a821-42ad-bc29-8ea96227dfcc",
   "metadata": {},
   "outputs": [],
   "source": [
    "#assignment 3\n",
    "class Employee:\n",
    "    def __init__(self,name,salary,dept):\n",
    "        self.name = name\n",
    "        self.__salary = salary\n",
    "        self.__dept = dept\n",
    "        print(f'Hello Employee{self.name}')\n",
    "    def get_details(self):\n",
    "        print(f'Salary of the employee is {self.__salary}')\n",
    "        print(f'Department of the employeee is {self.__dept}')\n",
    "    def increase_salary(self,percentage):\n",
    "        self.__salary += self.__salary * percentage/100\n",
    "        print(f'salary has been increased by {percentage}% ')\n",
    "        print(f'Your new salary is {self.__salary}')"
   ]
  },
  {
   "cell_type": "code",
   "execution_count": 80,
   "id": "388a5d4e-e640-42bc-99fe-6b64461c2cd5",
   "metadata": {},
   "outputs": [
    {
     "name": "stdout",
     "output_type": "stream",
     "text": [
      "Hello Employeeash\n"
     ]
    }
   ],
   "source": [
    "a = Employee('ash',10000,'it')"
   ]
  },
  {
   "cell_type": "code",
   "execution_count": 82,
   "id": "e2dccae2-3e9f-4dff-8cca-de77cca51db1",
   "metadata": {},
   "outputs": [
    {
     "name": "stdout",
     "output_type": "stream",
     "text": [
      "Salary of the employee is 10000\n",
      "Department of the employeee is it\n"
     ]
    }
   ],
   "source": [
    "a.get_details()"
   ]
  },
  {
   "cell_type": "code",
   "execution_count": 84,
   "id": "bdd360ff-424d-4f94-84ac-dae4eb308227",
   "metadata": {},
   "outputs": [
    {
     "name": "stdout",
     "output_type": "stream",
     "text": [
      "salary has been increased by 10% \n",
      "Your new salary is 11000.0\n"
     ]
    }
   ],
   "source": [
    "a.increase_salary(10)"
   ]
  },
  {
   "cell_type": "code",
   "execution_count": 88,
   "id": "40c44d43-14fe-4bbe-9cfe-c4b374f37815",
   "metadata": {},
   "outputs": [],
   "source": [
    "#assignment 4\n",
    "class Book:\n",
    "    def __init__(self,title,author, price,availability_status):\n",
    "        self.title = title\n",
    "        self.author = author\n",
    "        self.price = price\n",
    "        self.__availability_status = availability_status\n",
    "        print('Hello dear welcome to the library')\n",
    "\n",
    "\n",
    "    def borrow_book(self):\n",
    "        if self.__availability_status:\n",
    "            self.__availability_status = False\n",
    "            print(f'Book {self.title} is availaible and you can borrow it ')\n",
    "        else:\n",
    "            print(f'SORRRRYYYYYYY  Book {self.title} is not availaible and you can not borrow it ')\n",
    "\n",
    "\n",
    "    def return_book(self):\n",
    "        self.__availability_status = True\n",
    "        print('Thankyou for returning the book !!!')\n",
    "\n",
    "    def get_book_info(self):\n",
    "        print(f'Title of the book is {self.title}')\n",
    "        print(f'Author  of the book is {self.author}')\n",
    "        print(f'Price of the book is {self.price}')\n",
    "        "
   ]
  },
  {
   "cell_type": "code",
   "execution_count": 90,
   "id": "755fd0af-69f7-42eb-9f0f-6bf721f161e7",
   "metadata": {},
   "outputs": [
    {
     "name": "stdout",
     "output_type": "stream",
     "text": [
      "Hello dear welcome to the library\n"
     ]
    }
   ],
   "source": [
    "a = Book('Money','Robert',500,True)"
   ]
  },
  {
   "cell_type": "code",
   "execution_count": 94,
   "id": "dd37ec95-9438-410b-9c51-c8984dfceb4c",
   "metadata": {},
   "outputs": [
    {
     "name": "stdout",
     "output_type": "stream",
     "text": [
      "Book Money is availaible and you can borrow it \n"
     ]
    }
   ],
   "source": [
    "a.borrow_book()"
   ]
  },
  {
   "cell_type": "code",
   "execution_count": 96,
   "id": "4f945f22-1471-41a6-b4a0-d1d27cc16186",
   "metadata": {},
   "outputs": [
    {
     "name": "stdout",
     "output_type": "stream",
     "text": [
      "SORRRRYYYYYYY  Book Money is not availaible and you can not borrow it \n"
     ]
    }
   ],
   "source": [
    "a.borrow_book()"
   ]
  },
  {
   "cell_type": "code",
   "execution_count": 98,
   "id": "4117e14c-c211-4949-b979-70150beb122b",
   "metadata": {},
   "outputs": [
    {
     "name": "stdout",
     "output_type": "stream",
     "text": [
      "Thankyou for returning the book !!!\n"
     ]
    }
   ],
   "source": [
    "a.return_book()"
   ]
  },
  {
   "cell_type": "code",
   "execution_count": 100,
   "id": "08f6fea4-9859-45c6-91b5-93d1edcd1eaa",
   "metadata": {},
   "outputs": [
    {
     "name": "stdout",
     "output_type": "stream",
     "text": [
      "Book Money is availaible and you can borrow it \n"
     ]
    }
   ],
   "source": [
    "a.borrow_book()"
   ]
  },
  {
   "cell_type": "code",
   "execution_count": 102,
   "id": "9e65dd74-6a0d-40a3-bc0a-283c4fc60cf2",
   "metadata": {},
   "outputs": [
    {
     "name": "stdout",
     "output_type": "stream",
     "text": [
      "Title of the book is Money\n",
      "Author  of the book is Robert\n",
      "Price of the book is 500\n"
     ]
    }
   ],
   "source": [
    "a.get_book_info()"
   ]
  },
  {
   "cell_type": "code",
   "execution_count": null,
   "id": "d511b343-e1a5-43f7-8cf2-a7b6c81c2bf3",
   "metadata": {},
   "outputs": [],
   "source": []
  }
 ],
 "metadata": {
  "kernelspec": {
   "display_name": "Python [conda env:base] *",
   "language": "python",
   "name": "conda-base-py"
  },
  "language_info": {
   "codemirror_mode": {
    "name": "ipython",
    "version": 3
   },
   "file_extension": ".py",
   "mimetype": "text/x-python",
   "name": "python",
   "nbconvert_exporter": "python",
   "pygments_lexer": "ipython3",
   "version": "3.11.7"
  },
  "widgets": {
   "application/vnd.jupyter.widget-state+json": {
    "state": {},
    "version_major": 2,
    "version_minor": 0
   }
  }
 },
 "nbformat": 4,
 "nbformat_minor": 5
}
