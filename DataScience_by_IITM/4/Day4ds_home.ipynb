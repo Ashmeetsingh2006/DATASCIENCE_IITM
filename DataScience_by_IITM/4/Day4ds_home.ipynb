{
 "cells": [
  {
   "cell_type": "code",
   "execution_count": 2,
   "id": "245a857c-d66f-44d2-943d-5ecede7db9e6",
   "metadata": {},
   "outputs": [],
   "source": [
    "#FILE HANDLING USING PYTHON"
   ]
  },
  {
   "cell_type": "code",
   "execution_count": 8,
   "id": "2513abd2-42bf-401a-9c4c-a438a24c518e",
   "metadata": {},
   "outputs": [
    {
     "name": "stdout",
     "output_type": "stream",
     "text": [
      "print('''This is Ashmeet module \n",
      "Info: https://www.google.com/''')\n",
      "\n",
      "\n",
      "def check_palidrome(word):\n",
      "    if type(word) == str:\n",
      "        word = word.upper()\n",
      "        \n",
      "        if word == word[::-1]:\n",
      "            print(f' {word} is a palidrome')\n",
      "        else:\n",
      "            print(f'{word} not a palindrome')\n",
      "    else:\n",
      "        return 'invalid data type'\n",
      "\n",
      "        \n",
      "def give_fibo(n):\n",
      "    fibo = [0,1]\n",
      "    for i in range(n-2):\n",
      "        last_num = fibo[-1]\n",
      "        second_last_num = fibo[-2]\n",
      "        next_num = last_num + second_last_num\n",
      "        fibo.append(next_num)\n",
      "        \n",
      "    return fibo   \n",
      "\n",
      "def check_prime(number):\n",
      "    for i in range(2,number):\n",
      "        if number%i == 0:\n",
      "            print(f'{number } is not a prime number')\n",
      "            break\n",
      "    else:\n",
      "        print(f'{number} is a prime number')\n",
      "\n",
      "def star(n,typ = 'left',shape = '*'):\n",
      "    if typ == 'left':\n",
      "        space = ''\n",
      "    elif typ == 'right':\n",
      "        space = '  '\n",
      "    elif typ == 'centre':\n",
      "        space =' '\n",
      "    for i in range(1,n+1):\n",
      "        print(space *(n-i) + i*f'{shape} ')\n",
      "  \n",
      "   \n",
      "\n",
      "\n",
      "\n",
      "def sum_of_n(n):\n",
      "    result = 0\n",
      "    for i in range(1,n+1):\n",
      "        result += i\n",
      "    return result    \n",
      "\n",
      "\n",
      "def factorial(n):\n",
      "    result = 1\n",
      "    for i in range(1,n+1):\n",
      "        result *= i\n",
      "    return result\n",
      "\n",
      "\n",
      "def total_s(*args):\n",
      "    result = 0\n",
      "    for i in args:\n",
      "        result += i\n",
      "    return result\n",
      "\n",
      "\n",
      "def minin(*sales):\n",
      "    min_element = sales[0]\n",
      "    for i in sales[1:]:\n",
      "        if i < min_element:\n",
      "            min_element = i\n",
      "    return min_element   \n",
      "\n",
      "def maxim(*sales):\n",
      "    max_element = sales[0]\n",
      "    for i in sales[1:]:  \n",
      "        if i > max_element:\n",
      "            max_element = i\n",
      "    return max_element  \n",
      "\n",
      "\n",
      "\n",
      "\n",
      "def store_records(name,age,sec,roll_no,Class):\n",
      "    data = {\n",
      "        'Name' : name, 'Age' : age, 'Sec' : sec, 'Roll no' : roll_no, 'Class' : lass}\n",
      "    import pandas as pd\n",
      "    result = pd.DataFrame(data,index = [1])\n",
      "    return result\n",
      "\n",
      "\n",
      "def student_records(**kwargs):\n",
      "    import pandas as pd\n",
      "    try:\n",
      "        data = pd.DataFrame(kwargs)\n",
      "        return data \n",
      "    except:\n",
      "            data = pd.DataFrame(kwargs,index = [1])\n",
      "            return data \n",
      "\n",
      "def sound_box(paisa,platform = 'Paytm'):\n",
      "    from gtts import gTTS\n",
      "    text  = f'''{platform} par {paisa} rs Prapt hue.'''\n",
      "    audio = gTTS(text)\n",
      "    audio.save('paytm.mp3')\n",
      "\n",
      "    import pygame as p\n",
      "    p.init()\n",
      "\n",
      "    music = p.mixer.Sound('paytm.mp3')\n",
      "    music.play()\n",
      "\n",
      "\n",
      "\n",
      "\n",
      "\n",
      "\n",
      "\n",
      "\n",
      "\n",
      "\n",
      "\n",
      "\n",
      "\n",
      "\n",
      "\n",
      "\n",
      "\n",
      "\n",
      "\n",
      "\n",
      "\n",
      "\n",
      "\n",
      "\n",
      "\n",
      "\n",
      "\n",
      "\n",
      "\n",
      "\n",
      "\n",
      "\n",
      "\n",
      "\n",
      "\n",
      "\n",
      "\n",
      "\n",
      "\n",
      "\n"
     ]
    }
   ],
   "source": [
    "f = open('ashmeet.py', mode = 'r')\n",
    "print(f.read())\n",
    "f.close()\n",
    "#mode = 'r' is used to read \n",
    "#read is used to read the whole file "
   ]
  },
  {
   "cell_type": "code",
   "execution_count": 28,
   "id": "e250e369-7ffd-48c8-8133-d35c3284e819",
   "metadata": {},
   "outputs": [
    {
     "name": "stdout",
     "output_type": "stream",
     "text": [
      "print('''This is Ashmeet module \n",
      "\n"
     ]
    }
   ],
   "source": [
    "f = open('ashmeet.py',mode = 'r')\n",
    "print(f.readline())\n",
    "f.close()\n",
    "#readline is used to read line one by one "
   ]
  },
  {
   "cell_type": "code",
   "execution_count": 36,
   "id": "e512b65e-7daf-4dde-8d34-d1e1b8993a78",
   "metadata": {},
   "outputs": [
    {
     "name": "stdout",
     "output_type": "stream",
     "text": [
      "print('''This is Ashmeet module \n",
      "\n",
      "Info: https://www.google.com/''')\n",
      "\n",
      "\n",
      "\n",
      "\n",
      "\n",
      "def check_palidrome(word):\n",
      "\n",
      "    if type(word) == str:\n",
      "\n",
      "        word = word.upper()\n",
      "\n",
      "        \n",
      "\n",
      "        if word == word[::-1]:\n",
      "\n",
      "            print(f' {word} is a palidrome')\n",
      "\n",
      "        else:\n",
      "\n"
     ]
    }
   ],
   "source": [
    "f = open('ashmeet.py', mode = 'r')\n",
    "for i in range(11):\n",
    "    print(f.readline())\n",
    "f.close()    "
   ]
  },
  {
   "cell_type": "code",
   "execution_count": 46,
   "id": "debe8f4f-a376-489a-ab0f-8cea7fc255fa",
   "metadata": {},
   "outputs": [
    {
     "name": "stdout",
     "output_type": "stream",
     "text": [
      "        word = word.upper()\n",
      "\n",
      "done\n"
     ]
    }
   ],
   "source": [
    "f = open('ashmeet.py', mode='r')\n",
    "for i in range(10):\n",
    "    if i == 6:\n",
    "        print(f.readline())\n",
    "    else:\n",
    "        f.readline()\n",
    "f.close()    \n",
    "print('done')"
   ]
  },
  {
   "cell_type": "code",
   "execution_count": 54,
   "id": "6ba5e646-f15e-4ac0-84c5-d3717cd16d0a",
   "metadata": {},
   "outputs": [],
   "source": [
    "f =  open('ashmeet.py', mode = 'r')\n",
    "data = f.readlines()\n",
    "f.close()\n",
    "\n",
    "#readlines convert the file data into list"
   ]
  },
  {
   "cell_type": "code",
   "execution_count": 52,
   "id": "55b6646e-3c75-40f9-b7fd-b95607983fc3",
   "metadata": {},
   "outputs": [
    {
     "name": "stdout",
     "output_type": "stream",
     "text": [
      "    if type(word) == str:\n",
      "\n"
     ]
    }
   ],
   "source": [
    "print(data[5])"
   ]
  },
  {
   "cell_type": "code",
   "execution_count": null,
   "id": "f12baaa3-3649-4a49-9cc5-1a62bed3e58d",
   "metadata": {},
   "outputs": [],
   "source": [
    "'''\n",
    "SO AS WE SUMMARIZE \n",
    "MODE ='r' IS USED TO READ THE DATA FILE \n",
    "F.READ() IS USED TO READ THE WHOLE DATA IN ONCE\n",
    "F.READLINE() IS USED TO READ THE LINE ONE BY ONE \n",
    "F.READLINES() IS USED TO CONVERT THE DATA FILE INTO LIST THEN WE CAN READ IT\n",
    "'''"
   ]
  },
  {
   "cell_type": "code",
   "execution_count": 58,
   "id": "86ad8d27-5d96-48a8-9920-b1150bdc8275",
   "metadata": {},
   "outputs": [
    {
     "name": "stdout",
     "output_type": "stream",
     "text": [
      "done\n"
     ]
    }
   ],
   "source": [
    "#mode = 'w'\n",
    "#if file is opened in w mode it will delete the data of the file if it already exist or it will create a new file if doesnot exist\n",
    "f = open('day4.txt', mode = 'w')\n",
    "f.write('This is the day 4 homework')\n",
    "f.close()\n",
    "print('done')"
   ]
  },
  {
   "cell_type": "code",
   "execution_count": 61,
   "id": "ca72a966-7dad-49fb-9bed-d15a7f9cd6e7",
   "metadata": {},
   "outputs": [
    {
     "name": "stdout",
     "output_type": "stream",
     "text": [
      "Requirement already satisfied: googlesearch-python in c:\\users\\dell\\anaconda3\\lib\\site-packages (1.3.0)\n",
      "Requirement already satisfied: beautifulsoup4>=4.9 in c:\\users\\dell\\anaconda3\\lib\\site-packages (from googlesearch-python) (4.12.2)\n",
      "Requirement already satisfied: requests>=2.20 in c:\\users\\dell\\anaconda3\\lib\\site-packages (from googlesearch-python) (2.32.3)\n",
      "Requirement already satisfied: soupsieve>1.2 in c:\\users\\dell\\anaconda3\\lib\\site-packages (from beautifulsoup4>=4.9->googlesearch-python) (2.5)\n",
      "Requirement already satisfied: charset-normalizer<4,>=2 in c:\\users\\dell\\anaconda3\\lib\\site-packages (from requests>=2.20->googlesearch-python) (2.0.4)\n",
      "Requirement already satisfied: idna<4,>=2.5 in c:\\users\\dell\\anaconda3\\lib\\site-packages (from requests>=2.20->googlesearch-python) (3.4)\n",
      "Requirement already satisfied: urllib3<3,>=1.21.1 in c:\\users\\dell\\anaconda3\\lib\\site-packages (from requests>=2.20->googlesearch-python) (2.0.7)\n",
      "Requirement already satisfied: certifi>=2017.4.17 in c:\\users\\dell\\anaconda3\\lib\\site-packages (from requests>=2.20->googlesearch-python) (2025.1.31)\n",
      "Note: you may need to restart the kernel to use updated packages.\n"
     ]
    }
   ],
   "source": [
    "#pip install googlesearch-python"
   ]
  },
  {
   "cell_type": "code",
   "execution_count": 65,
   "id": "ab8e352c-2afd-470c-b48b-b136e1edfe69",
   "metadata": {},
   "outputs": [
    {
     "data": {
      "text/plain": [
       "<generator object search at 0x000001FBA48A23E0>"
      ]
     },
     "execution_count": 65,
     "metadata": {},
     "output_type": "execute_result"
    }
   ],
   "source": [
    "#google search module helps to use to do search using \n",
    "from googlesearch import search\n",
    "search('google')\n",
    "#genrator object means there is so much data available online it cannot display all so we convert this into a list to access the data "
   ]
  },
  {
   "cell_type": "code",
   "execution_count": 67,
   "id": "56912e18-f3c5-46d5-b802-562dfe309630",
   "metadata": {},
   "outputs": [
    {
     "data": {
      "text/plain": [
       "['/search?num=12',\n",
       " 'https://www.google.com/search?num=12',\n",
       " '/search?num=12',\n",
       " 'https://cloud.google.com/learn/artificial-intelligence-vs-machine-learning',\n",
       " 'https://www.redhat.com/en/blog/what-aiml-and-why-does-it-matter-your-business',\n",
       " 'https://www.w3schools.com/ai/',\n",
       " 'https://ai.engineering.columbia.edu/ai-vs-machine-learning/',\n",
       " 'https://azure.microsoft.com/en-us/resources/cloud-computing-dictionary/artificial-intelligence-vs-machine-learning',\n",
       " 'https://aws.amazon.com/training/learn-about/machine-learning/',\n",
       " 'https://www.ibm.com/think/topics/machine-learning']"
      ]
     },
     "execution_count": 67,
     "metadata": {},
     "output_type": "execute_result"
    }
   ],
   "source": [
    "from googlesearch import search\n",
    "list(search('ai_ml',num_results=10))"
   ]
  },
  {
   "cell_type": "code",
   "execution_count": null,
   "id": "737d0742-9bb7-4baf-8160-233b22b44284",
   "metadata": {},
   "outputs": [],
   "source": []
  }
 ],
 "metadata": {
  "kernelspec": {
   "display_name": "Python [conda env:base] *",
   "language": "python",
   "name": "conda-base-py"
  },
  "language_info": {
   "codemirror_mode": {
    "name": "ipython",
    "version": 3
   },
   "file_extension": ".py",
   "mimetype": "text/x-python",
   "name": "python",
   "nbconvert_exporter": "python",
   "pygments_lexer": "ipython3",
   "version": "3.11.7"
  },
  "widgets": {
   "application/vnd.jupyter.widget-state+json": {
    "state": {},
    "version_major": 2,
    "version_minor": 0
   }
  }
 },
 "nbformat": 4,
 "nbformat_minor": 5
}
